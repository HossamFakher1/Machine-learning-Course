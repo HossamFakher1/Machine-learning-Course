{
 "cells": [
  {
   "cell_type": "markdown",
   "id": "90627efc",
   "metadata": {},
   "source": [
    "# Library "
   ]
  },
  {
   "cell_type": "code",
   "execution_count": 20,
   "id": "575c20f5",
   "metadata": {},
   "outputs": [],
   "source": [
    "import numpy as np\n",
    "import pandas as pd\n",
    "import matplotlib.pyplot as plt"
   ]
  },
  {
   "cell_type": "markdown",
   "id": "7a50c0ee",
   "metadata": {},
   "source": [
    "# Read data"
   ]
  },
  {
   "cell_type": "code",
   "execution_count": 21,
   "id": "c3cec9f7-a2ec-4c71-bf34-46f360b065c2",
   "metadata": {},
   "outputs": [],
   "source": [
    "df=pd.read_csv('Heart attack.csv')"
   ]
  },
  {
   "cell_type": "code",
   "execution_count": 22,
   "id": "7710b197-d947-47f3-adcf-9d321f954190",
   "metadata": {},
   "outputs": [
    {
     "data": {
      "text/html": [
       "<div>\n",
       "<style scoped>\n",
       "    .dataframe tbody tr th:only-of-type {\n",
       "        vertical-align: middle;\n",
       "    }\n",
       "\n",
       "    .dataframe tbody tr th {\n",
       "        vertical-align: top;\n",
       "    }\n",
       "\n",
       "    .dataframe thead th {\n",
       "        text-align: right;\n",
       "    }\n",
       "</style>\n",
       "<table border=\"1\" class=\"dataframe\">\n",
       "  <thead>\n",
       "    <tr style=\"text-align: right;\">\n",
       "      <th></th>\n",
       "      <th>gender</th>\n",
       "      <th>age</th>\n",
       "      <th>hypertension</th>\n",
       "      <th>heart_disease</th>\n",
       "      <th>ever_married</th>\n",
       "      <th>work_type</th>\n",
       "      <th>Residence_type</th>\n",
       "      <th>avg_glucose_level</th>\n",
       "      <th>bmi</th>\n",
       "      <th>smoking_status</th>\n",
       "      <th>stroke</th>\n",
       "    </tr>\n",
       "  </thead>\n",
       "  <tbody>\n",
       "    <tr>\n",
       "      <th>0</th>\n",
       "      <td>0.5</td>\n",
       "      <td>0.816895</td>\n",
       "      <td>0.0</td>\n",
       "      <td>1.0</td>\n",
       "      <td>1.0</td>\n",
       "      <td>0.50</td>\n",
       "      <td>1.0</td>\n",
       "      <td>0.801265</td>\n",
       "      <td>0.301260</td>\n",
       "      <td>0.333333</td>\n",
       "      <td>1</td>\n",
       "    </tr>\n",
       "    <tr>\n",
       "      <th>1</th>\n",
       "      <td>0.0</td>\n",
       "      <td>0.743652</td>\n",
       "      <td>0.0</td>\n",
       "      <td>0.0</td>\n",
       "      <td>1.0</td>\n",
       "      <td>0.75</td>\n",
       "      <td>0.0</td>\n",
       "      <td>0.679023</td>\n",
       "      <td>0.212981</td>\n",
       "      <td>0.666667</td>\n",
       "      <td>1</td>\n",
       "    </tr>\n",
       "    <tr>\n",
       "      <th>2</th>\n",
       "      <td>0.5</td>\n",
       "      <td>0.975586</td>\n",
       "      <td>0.0</td>\n",
       "      <td>1.0</td>\n",
       "      <td>1.0</td>\n",
       "      <td>0.50</td>\n",
       "      <td>0.0</td>\n",
       "      <td>0.234512</td>\n",
       "      <td>0.254296</td>\n",
       "      <td>0.666667</td>\n",
       "      <td>1</td>\n",
       "    </tr>\n",
       "    <tr>\n",
       "      <th>3</th>\n",
       "      <td>0.0</td>\n",
       "      <td>0.597168</td>\n",
       "      <td>0.0</td>\n",
       "      <td>0.0</td>\n",
       "      <td>1.0</td>\n",
       "      <td>0.50</td>\n",
       "      <td>1.0</td>\n",
       "      <td>0.536008</td>\n",
       "      <td>0.276060</td>\n",
       "      <td>1.000000</td>\n",
       "      <td>1</td>\n",
       "    </tr>\n",
       "    <tr>\n",
       "      <th>4</th>\n",
       "      <td>0.0</td>\n",
       "      <td>0.963379</td>\n",
       "      <td>1.0</td>\n",
       "      <td>0.0</td>\n",
       "      <td>1.0</td>\n",
       "      <td>0.75</td>\n",
       "      <td>0.0</td>\n",
       "      <td>0.549349</td>\n",
       "      <td>0.156930</td>\n",
       "      <td>0.666667</td>\n",
       "      <td>1</td>\n",
       "    </tr>\n",
       "  </tbody>\n",
       "</table>\n",
       "</div>"
      ],
      "text/plain": [
       "   gender       age  hypertension  heart_disease  ever_married  work_type  \\\n",
       "0     0.5  0.816895           0.0            1.0           1.0       0.50   \n",
       "1     0.0  0.743652           0.0            0.0           1.0       0.75   \n",
       "2     0.5  0.975586           0.0            1.0           1.0       0.50   \n",
       "3     0.0  0.597168           0.0            0.0           1.0       0.50   \n",
       "4     0.0  0.963379           1.0            0.0           1.0       0.75   \n",
       "\n",
       "   Residence_type  avg_glucose_level       bmi  smoking_status  stroke  \n",
       "0             1.0           0.801265  0.301260        0.333333       1  \n",
       "1             0.0           0.679023  0.212981        0.666667       1  \n",
       "2             0.0           0.234512  0.254296        0.666667       1  \n",
       "3             1.0           0.536008  0.276060        1.000000       1  \n",
       "4             0.0           0.549349  0.156930        0.666667       1  "
      ]
     },
     "execution_count": 22,
     "metadata": {},
     "output_type": "execute_result"
    }
   ],
   "source": [
    "df.head()"
   ]
  },
  {
   "cell_type": "code",
   "execution_count": 23,
   "id": "8884e152-8a12-49dc-825a-84dcaea5aa08",
   "metadata": {},
   "outputs": [
    {
     "data": {
      "text/plain": [
       "(9722, 11)"
      ]
     },
     "execution_count": 23,
     "metadata": {},
     "output_type": "execute_result"
    }
   ],
   "source": [
    "df.shape"
   ]
  },
  {
   "cell_type": "code",
   "execution_count": 24,
   "id": "b6bc190a-6dc0-477f-b28f-133e6c69579d",
   "metadata": {},
   "outputs": [
    {
     "name": "stdout",
     "output_type": "stream",
     "text": [
      "<class 'pandas.core.frame.DataFrame'>\n",
      "RangeIndex: 9722 entries, 0 to 9721\n",
      "Data columns (total 11 columns):\n",
      " #   Column             Non-Null Count  Dtype  \n",
      "---  ------             --------------  -----  \n",
      " 0   gender             9722 non-null   float64\n",
      " 1   age                9722 non-null   float64\n",
      " 2   hypertension       9722 non-null   float64\n",
      " 3   heart_disease      9722 non-null   float64\n",
      " 4   ever_married       9722 non-null   float64\n",
      " 5   work_type          9722 non-null   float64\n",
      " 6   Residence_type     9722 non-null   float64\n",
      " 7   avg_glucose_level  9722 non-null   float64\n",
      " 8   bmi                9722 non-null   float64\n",
      " 9   smoking_status     9722 non-null   float64\n",
      " 10  stroke             9722 non-null   int64  \n",
      "dtypes: float64(10), int64(1)\n",
      "memory usage: 835.6 KB\n"
     ]
    }
   ],
   "source": [
    "df.info()"
   ]
  },
  {
   "cell_type": "code",
   "execution_count": 25,
   "id": "9679f0c7-ada0-4f40-b062-a7d2e7c97994",
   "metadata": {},
   "outputs": [
    {
     "data": {
      "text/plain": [
       "gender           0\n",
       "age              0\n",
       "hypertension     0\n",
       "heart_disease    0\n",
       "ever_married     0\n",
       "dtype: int64"
      ]
     },
     "execution_count": 25,
     "metadata": {},
     "output_type": "execute_result"
    }
   ],
   "source": [
    "df.isnull().sum().sort_values(ascending = False).head(5)"
   ]
  },
  {
   "cell_type": "code",
   "execution_count": 26,
   "id": "e6701745-4644-4bf3-b3b8-aef608483241",
   "metadata": {},
   "outputs": [
    {
     "data": {
      "text/plain": [
       "0"
      ]
     },
     "execution_count": 26,
     "metadata": {},
     "output_type": "execute_result"
    }
   ],
   "source": [
    "df.duplicated().sum()"
   ]
  },
  {
   "cell_type": "code",
   "execution_count": 27,
   "id": "df17fdad-22ef-4dad-8bd1-ac6df01a6b19",
   "metadata": {},
   "outputs": [],
   "source": [
    "X=df.iloc[:,:-1]\n",
    "y=df.iloc[:,-1]"
   ]
  },
  {
   "cell_type": "code",
   "execution_count": 28,
   "id": "e502ccc5-b751-4175-8011-c8866b9bda5a",
   "metadata": {},
   "outputs": [],
   "source": [
    "# MinMaxScaler\n",
    "from sklearn.preprocessing import MinMaxScaler\n",
    "my_scaler = MinMaxScaler()\n",
    "X = my_scaler.fit_transform(X)"
   ]
  },
  {
   "cell_type": "code",
   "execution_count": 10,
   "id": "14c4099b-31c3-48cf-8893-809075eb6994",
   "metadata": {},
   "outputs": [
    {
     "name": "stdout",
     "output_type": "stream",
     "text": [
      "stroke        : \n",
      " stroke\n",
      "1    4861\n",
      "0    4861\n",
      "Name: count, dtype: int64\n",
      "\n",
      "\n",
      "stroke\n",
      "1    0.5\n",
      "0    0.5\n",
      "Name: proportion, dtype: float64\n"
     ]
    },
    {
     "data": {
      "text/plain": [
       "<Axes: title={'center': 'stroke'}, xlabel='stroke'>"
      ]
     },
     "execution_count": 10,
     "metadata": {},
     "output_type": "execute_result"
    },
    {
     "data": {
      "image/png": "[encoded data removed]",
      "text/plain": [
       "<Figure size 640x480 with 1 Axes>"
      ]
     },
     "metadata": {},
     "output_type": "display_data"
    }
   ],
   "source": [
    "# Lets know how many values\n",
    "print(\"stroke        : \\n\",y.value_counts())\n",
    "print(\"\\n\")\n",
    "print(y.value_counts(normalize=True))\n",
    "\n",
    "# plot.bar(title='') function is used to plot bargraph \n",
    "y.value_counts().plot.bar(title=\"stroke\")\n"
   ]
  },
  {
   "cell_type": "code",
   "execution_count": null,
   "id": "1c468d20-8938-46b2-802f-baa9518d8b57",
   "metadata": {},
   "outputs": [],
   "source": []
  },
  {
   "cell_type": "markdown",
   "id": "cdf07608",
   "metadata": {},
   "source": [
    "# Spliting Data \n",
    "### train test split"
   ]
  },
  {
   "cell_type": "code",
   "execution_count": 11,
   "id": "e159c4c9",
   "metadata": {},
   "outputs": [],
   "source": [
    "# Split into Input and Output Elements\n",
    "from sklearn.model_selection import train_test_split\n",
    "X_train, X_test, y_train, y_test = train_test_split(X,y,\n",
    "                                   test_size= 0.20, random_state=100, stratify=y)"
   ]
  },
  {
   "cell_type": "code",
   "execution_count": 29,
   "id": "4b382337-a84c-4ad9-94af-92b1b1629423",
   "metadata": {},
   "outputs": [
    {
     "data": {
      "text/plain": [
       "((7777, 10), (7777,))"
      ]
     },
     "execution_count": 29,
     "metadata": {},
     "output_type": "execute_result"
    }
   ],
   "source": [
    "X_train.shape ,y_train.shape"
   ]
  },
  {
   "cell_type": "code",
   "execution_count": 30,
   "id": "7320852e",
   "metadata": {},
   "outputs": [
    {
     "data": {
      "text/plain": [
       "((1945, 10), (1945,))"
      ]
     },
     "execution_count": 30,
     "metadata": {},
     "output_type": "execute_result"
    }
   ],
   "source": [
    "X_test.shape ,y_test.shape"
   ]
  },
  {
   "cell_type": "markdown",
   "id": "59996584",
   "metadata": {},
   "source": [
    "# Naïve Bayes "
   ]
  },
  {
   "cell_type": "code",
   "execution_count": 40,
   "id": "1883685c",
   "metadata": {},
   "outputs": [
    {
     "name": "stdout",
     "output_type": "stream",
     "text": [
      "NBModel Train Score is :  0.637906647807638\n",
      "NBModel Test Score is :  0.6442159383033419\n"
     ]
    }
   ],
   "source": [
    "from sklearn.naive_bayes import GaussianNB\n",
    "NBModel = GaussianNB()\n",
    "NBModel.fit(X_train,y_train)\n",
    "print('NBModel Train Score is : ',NBModel.score(X_train,y_train))\n",
    "print('NBModel Test Score is : ',NBModel.score(X_test,y_test))"
   ]
  },
  {
   "cell_type": "code",
   "execution_count": 41,
   "id": "2a96dfbe",
   "metadata": {},
   "outputs": [],
   "source": [
    "y_pred=NBModel.predict(X_test)"
   ]
  },
  {
   "cell_type": "code",
   "execution_count": 42,
   "id": "093e3c37-8647-40c4-9703-c1beea191928",
   "metadata": {},
   "outputs": [
    {
     "name": "stdout",
     "output_type": "stream",
     "text": [
      "actual Output  :  [0, 0, 1, 1, 1]\n",
      "predict output :  [1, 0, 0, 1, 0]\n"
     ]
    }
   ],
   "source": [
    "print('actual Output  : ',(y_test[:5].tolist()))\n",
    "print('predict output : ',y_pred[:5].tolist())"
   ]
  },
  {
   "cell_type": "code",
   "execution_count": 43,
   "id": "9582645c-74d5-454c-938b-0b886b0ace5a",
   "metadata": {},
   "outputs": [
    {
     "data": {
      "text/plain": [
       "array([[810, 163],\n",
       "       [529, 443]], dtype=int64)"
      ]
     },
     "execution_count": 43,
     "metadata": {},
     "output_type": "execute_result"
    }
   ],
   "source": [
    "from sklearn.metrics import classification_report ,confusion_matrix\n",
    "cm=confusion_matrix(y_test,y_pred)\n",
    "cm"
   ]
  },
  {
   "cell_type": "code",
   "execution_count": 44,
   "id": "efec3be1-be8a-4d50-a380-07ea7f857d03",
   "metadata": {},
   "outputs": [
    {
     "data": {
      "text/plain": [
       "<Axes: >"
      ]
     },
     "execution_count": 44,
     "metadata": {},
     "output_type": "execute_result"
    },
    {
     "data": {
      "image/png": "[encoded data removed]",
      "text/plain": [
       "<Figure size 640x480 with 2 Axes>"
      ]
     },
     "metadata": {},
     "output_type": "display_data"
    }
   ],
   "source": [
    "import seaborn as sns\n",
    "sns.heatmap(cm, annot=True, annot_kws={\"size\": 12},fmt=\"g\", cmap=\"YlGnBu\")"
   ]
  },
  {
   "cell_type": "code",
   "execution_count": 45,
   "id": "b7e53d0f",
   "metadata": {},
   "outputs": [
    {
     "name": "stdout",
     "output_type": "stream",
     "text": [
      "              precision    recall  f1-score   support\n",
      "\n",
      "           0       0.60      0.83      0.70       973\n",
      "           1       0.73      0.46      0.56       972\n",
      "\n",
      "    accuracy                           0.64      1945\n",
      "   macro avg       0.67      0.64      0.63      1945\n",
      "weighted avg       0.67      0.64      0.63      1945\n",
      "\n"
     ]
    }
   ],
   "source": [
    "print(classification_report(y_test,y_pred))"
   ]
  },
  {
   "cell_type": "code",
   "execution_count": null,
   "id": "0ac18d48",
   "metadata": {},
   "outputs": [],
   "source": []
  },
  {
   "cell_type": "code",
   "execution_count": null,
   "id": "7a127ced",
   "metadata": {},
   "outputs": [],
   "source": []
  }
 ],
 "metadata": {
  "kernelspec": {
   "display_name": "Python 3 (ipykernel)",
   "language": "python",
   "name": "python3"
  },
  "language_info": {
   "codemirror_mode": {
    "name": "ipython",
    "version": 3
   },
   "file_extension": ".py",
   "mimetype": "text/x-python",
   "name": "python",
   "nbconvert_exporter": "python",
   "pygments_lexer": "ipython3",
   "version": "3.11.5"
  }
 },
 "nbformat": 4,
 "nbformat_minor": 5
}
