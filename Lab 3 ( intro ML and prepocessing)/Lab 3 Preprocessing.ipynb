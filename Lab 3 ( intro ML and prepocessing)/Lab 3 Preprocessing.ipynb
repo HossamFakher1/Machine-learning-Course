{
 "cells": [
  {
   "cell_type": "markdown",
   "id": "90627efc",
   "metadata": {},
   "source": [
    "# Library "
   ]
  },
  {
   "cell_type": "code",
   "execution_count": 1,
   "id": "575c20f5",
   "metadata": {},
   "outputs": [],
   "source": [
    "import pandas as pd\n",
    "import numpy as np\n",
    "import matplotlib.pyplot as plt"
   ]
  },
  {
   "cell_type": "markdown",
   "id": "7a50c0ee",
   "metadata": {},
   "source": [
    "# Read data"
   ]
  },
  {
   "cell_type": "code",
   "execution_count": 2,
   "id": "b8975c11",
   "metadata": {},
   "outputs": [],
   "source": [
    "#loading Data\n",
    "df=pd.read_csv('WiDS Dataton.csv')"
   ]
  },
  {
   "cell_type": "code",
   "execution_count": 3,
   "id": "06c69dd4",
   "metadata": {},
   "outputs": [
    {
     "data": {
      "text/html": [
       "<div>\n",
       "<style scoped>\n",
       "    .dataframe tbody tr th:only-of-type {\n",
       "        vertical-align: middle;\n",
       "    }\n",
       "\n",
       "    .dataframe tbody tr th {\n",
       "        vertical-align: top;\n",
       "    }\n",
       "\n",
       "    .dataframe thead th {\n",
       "        text-align: right;\n",
       "    }\n",
       "</style>\n",
       "<table border=\"1\" class=\"dataframe\">\n",
       "  <thead>\n",
       "    <tr style=\"text-align: right;\">\n",
       "      <th></th>\n",
       "      <th>Year_Factor</th>\n",
       "      <th>State_Factor</th>\n",
       "      <th>building_class</th>\n",
       "      <th>facility_type</th>\n",
       "      <th>floor_area</th>\n",
       "      <th>year_built</th>\n",
       "      <th>energy_star_rating</th>\n",
       "      <th>ELEVATION</th>\n",
       "      <th>january_min_temp</th>\n",
       "      <th>january_avg_temp</th>\n",
       "      <th>...</th>\n",
       "      <th>december_min_temp</th>\n",
       "      <th>days_below_10F</th>\n",
       "      <th>days_below_0F</th>\n",
       "      <th>days_above_80F</th>\n",
       "      <th>direction_max_wind_speed</th>\n",
       "      <th>direction_peak_wind_speed</th>\n",
       "      <th>max_wind_speed</th>\n",
       "      <th>days_with_fog</th>\n",
       "      <th>site_eui</th>\n",
       "      <th>id</th>\n",
       "    </tr>\n",
       "  </thead>\n",
       "  <tbody>\n",
       "    <tr>\n",
       "      <th>0</th>\n",
       "      <td>1</td>\n",
       "      <td>State_1</td>\n",
       "      <td>Commercial</td>\n",
       "      <td>Grocery_store_or_food_market</td>\n",
       "      <td>61242.0</td>\n",
       "      <td>1942.0</td>\n",
       "      <td>11.0</td>\n",
       "      <td>2.4</td>\n",
       "      <td>36</td>\n",
       "      <td>50.5</td>\n",
       "      <td>...</td>\n",
       "      <td>36</td>\n",
       "      <td>0</td>\n",
       "      <td>0</td>\n",
       "      <td>14</td>\n",
       "      <td>1.0</td>\n",
       "      <td>1.0</td>\n",
       "      <td>1.0</td>\n",
       "      <td>NaN</td>\n",
       "      <td>248.682615</td>\n",
       "      <td>0</td>\n",
       "    </tr>\n",
       "    <tr>\n",
       "      <th>1</th>\n",
       "      <td>1</td>\n",
       "      <td>State_1</td>\n",
       "      <td>Commercial</td>\n",
       "      <td>Warehouse_Distribution_or_Shipping_center</td>\n",
       "      <td>274000.0</td>\n",
       "      <td>1955.0</td>\n",
       "      <td>45.0</td>\n",
       "      <td>1.8</td>\n",
       "      <td>36</td>\n",
       "      <td>50.5</td>\n",
       "      <td>...</td>\n",
       "      <td>36</td>\n",
       "      <td>0</td>\n",
       "      <td>0</td>\n",
       "      <td>14</td>\n",
       "      <td>1.0</td>\n",
       "      <td>NaN</td>\n",
       "      <td>1.0</td>\n",
       "      <td>12.0</td>\n",
       "      <td>26.500150</td>\n",
       "      <td>1</td>\n",
       "    </tr>\n",
       "    <tr>\n",
       "      <th>2</th>\n",
       "      <td>1</td>\n",
       "      <td>State_1</td>\n",
       "      <td>Commercial</td>\n",
       "      <td>Retail_Enclosed_mall</td>\n",
       "      <td>280025.0</td>\n",
       "      <td>1951.0</td>\n",
       "      <td>97.0</td>\n",
       "      <td>1.8</td>\n",
       "      <td>36</td>\n",
       "      <td>50.5</td>\n",
       "      <td>...</td>\n",
       "      <td>36</td>\n",
       "      <td>0</td>\n",
       "      <td>0</td>\n",
       "      <td>14</td>\n",
       "      <td>1.0</td>\n",
       "      <td>NaN</td>\n",
       "      <td>1.0</td>\n",
       "      <td>12.0</td>\n",
       "      <td>24.693619</td>\n",
       "      <td>2</td>\n",
       "    </tr>\n",
       "    <tr>\n",
       "      <th>3</th>\n",
       "      <td>1</td>\n",
       "      <td>State_1</td>\n",
       "      <td>Commercial</td>\n",
       "      <td>Education_Other_classroom</td>\n",
       "      <td>55325.0</td>\n",
       "      <td>1980.0</td>\n",
       "      <td>46.0</td>\n",
       "      <td>1.8</td>\n",
       "      <td>36</td>\n",
       "      <td>50.5</td>\n",
       "      <td>...</td>\n",
       "      <td>36</td>\n",
       "      <td>0</td>\n",
       "      <td>0</td>\n",
       "      <td>14</td>\n",
       "      <td>1.0</td>\n",
       "      <td>NaN</td>\n",
       "      <td>1.0</td>\n",
       "      <td>12.0</td>\n",
       "      <td>48.406926</td>\n",
       "      <td>3</td>\n",
       "    </tr>\n",
       "    <tr>\n",
       "      <th>4</th>\n",
       "      <td>1</td>\n",
       "      <td>State_1</td>\n",
       "      <td>Commercial</td>\n",
       "      <td>Warehouse_Nonrefrigerated</td>\n",
       "      <td>66000.0</td>\n",
       "      <td>1985.0</td>\n",
       "      <td>100.0</td>\n",
       "      <td>2.4</td>\n",
       "      <td>36</td>\n",
       "      <td>50.5</td>\n",
       "      <td>...</td>\n",
       "      <td>36</td>\n",
       "      <td>0</td>\n",
       "      <td>0</td>\n",
       "      <td>14</td>\n",
       "      <td>1.0</td>\n",
       "      <td>1.0</td>\n",
       "      <td>1.0</td>\n",
       "      <td>NaN</td>\n",
       "      <td>3.899395</td>\n",
       "      <td>4</td>\n",
       "    </tr>\n",
       "  </tbody>\n",
       "</table>\n",
       "<p>5 rows × 41 columns</p>\n",
       "</div>"
      ],
      "text/plain": [
       "   Year_Factor State_Factor building_class  \\\n",
       "0            1      State_1     Commercial   \n",
       "1            1      State_1     Commercial   \n",
       "2            1      State_1     Commercial   \n",
       "3            1      State_1     Commercial   \n",
       "4            1      State_1     Commercial   \n",
       "\n",
       "                               facility_type  floor_area  year_built  \\\n",
       "0               Grocery_store_or_food_market     61242.0      1942.0   \n",
       "1  Warehouse_Distribution_or_Shipping_center    274000.0      1955.0   \n",
       "2                       Retail_Enclosed_mall    280025.0      1951.0   \n",
       "3                  Education_Other_classroom     55325.0      1980.0   \n",
       "4                  Warehouse_Nonrefrigerated     66000.0      1985.0   \n",
       "\n",
       "   energy_star_rating  ELEVATION  january_min_temp  january_avg_temp  ...  \\\n",
       "0                11.0        2.4                36              50.5  ...   \n",
       "1                45.0        1.8                36              50.5  ...   \n",
       "2                97.0        1.8                36              50.5  ...   \n",
       "3                46.0        1.8                36              50.5  ...   \n",
       "4               100.0        2.4                36              50.5  ...   \n",
       "\n",
       "   december_min_temp  days_below_10F  days_below_0F  days_above_80F  \\\n",
       "0                 36               0              0              14   \n",
       "1                 36               0              0              14   \n",
       "2                 36               0              0              14   \n",
       "3                 36               0              0              14   \n",
       "4                 36               0              0              14   \n",
       "\n",
       "   direction_max_wind_speed  direction_peak_wind_speed  max_wind_speed  \\\n",
       "0                       1.0                        1.0             1.0   \n",
       "1                       1.0                        NaN             1.0   \n",
       "2                       1.0                        NaN             1.0   \n",
       "3                       1.0                        NaN             1.0   \n",
       "4                       1.0                        1.0             1.0   \n",
       "\n",
       "   days_with_fog    site_eui  id  \n",
       "0            NaN  248.682615   0  \n",
       "1           12.0   26.500150   1  \n",
       "2           12.0   24.693619   2  \n",
       "3           12.0   48.406926   3  \n",
       "4            NaN    3.899395   4  \n",
       "\n",
       "[5 rows x 41 columns]"
      ]
     },
     "execution_count": 3,
     "metadata": {},
     "output_type": "execute_result"
    }
   ],
   "source": [
    "df.head()"
   ]
  },
  {
   "cell_type": "code",
   "execution_count": 5,
   "id": "0f68367b",
   "metadata": {},
   "outputs": [
    {
     "data": {
      "text/plain": [
       "(31107, 41)"
      ]
     },
     "execution_count": 5,
     "metadata": {},
     "output_type": "execute_result"
    }
   ],
   "source": [
    "df.shape"
   ]
  },
  {
   "cell_type": "code",
   "execution_count": 4,
   "id": "78bf0dff",
   "metadata": {},
   "outputs": [
    {
     "name": "stdout",
     "output_type": "stream",
     "text": [
      "<class 'pandas.core.frame.DataFrame'>\n",
      "RangeIndex: 31107 entries, 0 to 31106\n",
      "Data columns (total 41 columns):\n",
      " #   Column                     Non-Null Count  Dtype  \n",
      "---  ------                     --------------  -----  \n",
      " 0   Year_Factor                31107 non-null  int64  \n",
      " 1   State_Factor               31107 non-null  object \n",
      " 2   building_class             31107 non-null  object \n",
      " 3   facility_type              31107 non-null  object \n",
      " 4   floor_area                 31107 non-null  float64\n",
      " 5   year_built                 29614 non-null  float64\n",
      " 6   energy_star_rating         14502 non-null  float64\n",
      " 7   ELEVATION                  31107 non-null  float64\n",
      " 8   january_min_temp           31107 non-null  int64  \n",
      " 9   january_avg_temp           31107 non-null  float64\n",
      " 10  january_max_temp           31107 non-null  int64  \n",
      " 11  february_min_temp          31107 non-null  int64  \n",
      " 12  february_avg_temp          31107 non-null  float64\n",
      " 13  february_max_temp          31107 non-null  int64  \n",
      " 14  march_min_temp             31107 non-null  int64  \n",
      " 15  march_avg_temp             31107 non-null  float64\n",
      " 16  march_max_temp             31107 non-null  int64  \n",
      " 17  april_min_temp             31107 non-null  int64  \n",
      " 18  april_avg_temp             31107 non-null  float64\n",
      " 19  april_max_temp             31107 non-null  int64  \n",
      " 20  may_min_temp               31107 non-null  int64  \n",
      " 21  may_avg_temp               31107 non-null  float64\n",
      " 22  may_max_temp               31107 non-null  int64  \n",
      " 23  june_min_temp              31107 non-null  int64  \n",
      " 24  june_avg_temp              31107 non-null  float64\n",
      " 25  june_max_temp              31107 non-null  int64  \n",
      " 26  july_min_temp              31107 non-null  int64  \n",
      " 27  july_avg_temp              31107 non-null  float64\n",
      " 28  july_max_temp              31107 non-null  int64  \n",
      " 29  august_min_temp            31107 non-null  int64  \n",
      " 30  november_max_temp          31107 non-null  int64  \n",
      " 31  december_min_temp          31107 non-null  int64  \n",
      " 32  days_below_10F             31107 non-null  int64  \n",
      " 33  days_below_0F              31107 non-null  int64  \n",
      " 34  days_above_80F             31107 non-null  int64  \n",
      " 35  direction_max_wind_speed   11192 non-null  float64\n",
      " 36  direction_peak_wind_speed  11156 non-null  float64\n",
      " 37  max_wind_speed             11192 non-null  float64\n",
      " 38  days_with_fog              12621 non-null  float64\n",
      " 39  site_eui                   31107 non-null  float64\n",
      " 40  id                         31107 non-null  int64  \n",
      "dtypes: float64(16), int64(22), object(3)\n",
      "memory usage: 9.7+ MB\n"
     ]
    }
   ],
   "source": [
    "df.info()"
   ]
  },
  {
   "cell_type": "code",
   "execution_count": 6,
   "id": "e68fddb2",
   "metadata": {},
   "outputs": [
    {
     "data": {
      "text/plain": [
       "Index(['Year_Factor', 'State_Factor', 'building_class', 'facility_type',\n",
       "       'floor_area', 'year_built', 'energy_star_rating', 'ELEVATION',\n",
       "       'january_min_temp', 'january_avg_temp', 'january_max_temp',\n",
       "       'february_min_temp', 'february_avg_temp', 'february_max_temp',\n",
       "       'march_min_temp', 'march_avg_temp', 'march_max_temp', 'april_min_temp',\n",
       "       'april_avg_temp', 'april_max_temp', 'may_min_temp', 'may_avg_temp',\n",
       "       'may_max_temp', 'june_min_temp', 'june_avg_temp', 'june_max_temp',\n",
       "       'july_min_temp', 'july_avg_temp', 'july_max_temp', 'august_min_temp',\n",
       "       'november_max_temp', 'december_min_temp', 'days_below_10F',\n",
       "       'days_below_0F', 'days_above_80F', 'direction_max_wind_speed',\n",
       "       'direction_peak_wind_speed', 'max_wind_speed', 'days_with_fog',\n",
       "       'site_eui', 'id'],\n",
       "      dtype='object')"
      ]
     },
     "execution_count": 6,
     "metadata": {},
     "output_type": "execute_result"
    }
   ],
   "source": [
    "df.columns"
   ]
  },
  {
   "cell_type": "code",
   "execution_count": 7,
   "id": "fbe6d68b",
   "metadata": {},
   "outputs": [
    {
     "data": {
      "text/plain": [
       "(31107, 41)"
      ]
     },
     "execution_count": 7,
     "metadata": {},
     "output_type": "execute_result"
    }
   ],
   "source": [
    "df.shape"
   ]
  },
  {
   "cell_type": "markdown",
   "id": "204d2cc3",
   "metadata": {},
   "source": [
    "# Remove column"
   ]
  },
  {
   "cell_type": "code",
   "execution_count": 8,
   "id": "5813a649",
   "metadata": {},
   "outputs": [],
   "source": [
    "df.drop(['id'],axis=1,inplace=True)"
   ]
  },
  {
   "cell_type": "markdown",
   "id": "6a292e7e",
   "metadata": {},
   "source": [
    "# Remove Duplicated"
   ]
  },
  {
   "cell_type": "code",
   "execution_count": 11,
   "id": "4ab3cdc3",
   "metadata": {},
   "outputs": [
    {
     "name": "stdout",
     "output_type": "stream",
     "text": [
      "Number of duplicate rows :  0\n"
     ]
    }
   ],
   "source": [
    "# Dropping the duplicate rows\n",
    "print(\"Number of duplicate rows : \",df.duplicated().sum())\n",
    "\n",
    "df.drop_duplicates(inplace=True)"
   ]
  },
  {
   "cell_type": "markdown",
   "id": "6c4e2fa6",
   "metadata": {},
   "source": [
    "# Data Cleaning\n",
    "missing Value"
   ]
  },
  {
   "cell_type": "code",
   "execution_count": 12,
   "id": "0d882777",
   "metadata": {},
   "outputs": [
    {
     "data": {
      "text/plain": [
       "direction_peak_wind_speed    19943\n",
       "max_wind_speed               19908\n",
       "direction_max_wind_speed     19908\n",
       "days_with_fog                18478\n",
       "energy_star_rating           16582\n",
       "year_built                    1473\n",
       "Year_Factor                      0\n",
       "july_max_temp                    0\n",
       "june_min_temp                    0\n",
       "june_avg_temp                    0\n",
       "dtype: int64"
      ]
     },
     "execution_count": 12,
     "metadata": {},
     "output_type": "execute_result"
    }
   ],
   "source": [
    "df.isnull().sum().sort_values(ascending = False).head(10)"
   ]
  },
  {
   "cell_type": "code",
   "execution_count": 13,
   "id": "9fd3bb6c",
   "metadata": {},
   "outputs": [
    {
     "data": {
      "image/png": "[encoded data removed]",
      "text/plain": [
       "<Figure size 1440x720 with 1 Axes>"
      ]
     },
     "metadata": {
      "needs_background": "light"
     },
     "output_type": "display_data"
    }
   ],
   "source": [
    "plt.figure(figsize=(20,10))\n",
    "df.isnull().sum().sort_values(ascending = False).head(6).plot(kind='bar')\n",
    "plt.show()"
   ]
  },
  {
   "cell_type": "code",
   "execution_count": 14,
   "id": "7ad568af",
   "metadata": {},
   "outputs": [],
   "source": [
    "df.drop(['days_with_fog','direction_peak_wind_speed','energy_star_rating',\n",
    "           'direction_max_wind_speed','max_wind_speed'],axis=1,inplace=True)"
   ]
  },
  {
   "cell_type": "markdown",
   "id": "4e46ec72",
   "metadata": {},
   "source": [
    "# Replace Nan value"
   ]
  },
  {
   "cell_type": "code",
   "execution_count": 20,
   "id": "be71783e",
   "metadata": {},
   "outputs": [
    {
     "data": {
      "text/plain": [
       "(31081, 1)"
      ]
     },
     "execution_count": 20,
     "metadata": {},
     "output_type": "execute_result"
    }
   ],
   "source": [
    "np.array(df['year_built']).reshape(-1, 1).shape"
   ]
  },
  {
   "cell_type": "code",
   "execution_count": 23,
   "id": "5ef2601c",
   "metadata": {},
   "outputs": [],
   "source": [
    "from sklearn.impute import SimpleImputer\n",
    "\n",
    "imputer=SimpleImputer(missing_values=np.nan,strategy='mean') #'median', 'mean', 'constant', 'most_frequent'\n",
    "\n",
    "df['year_built']=imputer.fit_transform(np.array(df['year_built']).reshape(-1, 1))\n",
    "\n",
    "\n",
    "#df.fillna(int(df['year_built'].mean()),inplace=True)"
   ]
  },
  {
   "cell_type": "code",
   "execution_count": 24,
   "id": "6dab2cc8",
   "metadata": {},
   "outputs": [
    {
     "data": {
      "text/plain": [
       "0"
      ]
     },
     "execution_count": 24,
     "metadata": {},
     "output_type": "execute_result"
    }
   ],
   "source": [
    "df['year_built'].isnull().sum()"
   ]
  },
  {
   "cell_type": "code",
   "execution_count": 25,
   "id": "d16022bb",
   "metadata": {},
   "outputs": [
    {
     "name": "stdout",
     "output_type": "stream",
     "text": [
      "<class 'pandas.core.frame.DataFrame'>\n",
      "Int64Index: 31081 entries, 0 to 31106\n",
      "Data columns (total 35 columns):\n",
      " #   Column             Non-Null Count  Dtype  \n",
      "---  ------             --------------  -----  \n",
      " 0   Year_Factor        31081 non-null  int64  \n",
      " 1   State_Factor       31081 non-null  object \n",
      " 2   building_class     31081 non-null  object \n",
      " 3   facility_type      31081 non-null  object \n",
      " 4   floor_area         31081 non-null  float64\n",
      " 5   year_built         31081 non-null  float64\n",
      " 6   ELEVATION          31081 non-null  float64\n",
      " 7   january_min_temp   31081 non-null  int64  \n",
      " 8   january_avg_temp   31081 non-null  float64\n",
      " 9   january_max_temp   31081 non-null  int64  \n",
      " 10  february_min_temp  31081 non-null  int64  \n",
      " 11  february_avg_temp  31081 non-null  float64\n",
      " 12  february_max_temp  31081 non-null  int64  \n",
      " 13  march_min_temp     31081 non-null  int64  \n",
      " 14  march_avg_temp     31081 non-null  float64\n",
      " 15  march_max_temp     31081 non-null  int64  \n",
      " 16  april_min_temp     31081 non-null  int64  \n",
      " 17  april_avg_temp     31081 non-null  float64\n",
      " 18  april_max_temp     31081 non-null  int64  \n",
      " 19  may_min_temp       31081 non-null  int64  \n",
      " 20  may_avg_temp       31081 non-null  float64\n",
      " 21  may_max_temp       31081 non-null  int64  \n",
      " 22  june_min_temp      31081 non-null  int64  \n",
      " 23  june_avg_temp      31081 non-null  float64\n",
      " 24  june_max_temp      31081 non-null  int64  \n",
      " 25  july_min_temp      31081 non-null  int64  \n",
      " 26  july_avg_temp      31081 non-null  float64\n",
      " 27  july_max_temp      31081 non-null  int64  \n",
      " 28  august_min_temp    31081 non-null  int64  \n",
      " 29  november_max_temp  31081 non-null  int64  \n",
      " 30  december_min_temp  31081 non-null  int64  \n",
      " 31  days_below_10F     31081 non-null  int64  \n",
      " 32  days_below_0F      31081 non-null  int64  \n",
      " 33  days_above_80F     31081 non-null  int64  \n",
      " 34  site_eui           31081 non-null  float64\n",
      "dtypes: float64(11), int64(21), object(3)\n",
      "memory usage: 8.5+ MB\n"
     ]
    }
   ],
   "source": [
    "df.info()"
   ]
  },
  {
   "cell_type": "code",
   "execution_count": 26,
   "id": "ab038697",
   "metadata": {},
   "outputs": [
    {
     "data": {
      "text/plain": [
       "0                 Grocery_store_or_food_market\n",
       "1    Warehouse_Distribution_or_Shipping_center\n",
       "2                         Retail_Enclosed_mall\n",
       "3                    Education_Other_classroom\n",
       "4                    Warehouse_Nonrefrigerated\n",
       "Name: facility_type, dtype: object"
      ]
     },
     "execution_count": 26,
     "metadata": {},
     "output_type": "execute_result"
    }
   ],
   "source": [
    "df['facility_type'].head()"
   ]
  },
  {
   "cell_type": "markdown",
   "id": "4aa77454",
   "metadata": {},
   "source": [
    "# Data Encoding"
   ]
  },
  {
   "cell_type": "code",
   "execution_count": 27,
   "id": "319e7931",
   "metadata": {},
   "outputs": [
    {
     "name": "stdout",
     "output_type": "stream",
     "text": [
      "number of column State_Factor is :  4\n",
      "number of column State_Factor is :  ['State_1' 'State_2' 'State_4' 'State_6']\n",
      "number of column facility_type is :  58\n",
      "number of column facility_type is :  ['Grocery_store_or_food_market'\n",
      " 'Warehouse_Distribution_or_Shipping_center' 'Retail_Enclosed_mall'\n",
      " 'Education_Other_classroom' 'Warehouse_Nonrefrigerated'\n",
      " 'Warehouse_Selfstorage' 'Office_Uncategorized' 'Data_Center'\n",
      " 'Commercial_Other' 'Mixed_Use_Predominantly_Commercial'\n",
      " 'Office_Medical_non_diagnostic' 'Education_College_or_university'\n",
      " 'Industrial' 'Laboratory' 'Public_Assembly_Entertainment_culture'\n",
      " 'Retail_Vehicle_dealership_showroom' 'Retail_Uncategorized'\n",
      " 'Lodging_Hotel' 'Retail_Strip_shopping_mall' 'Education_Uncategorized'\n",
      " 'Religious_worship' 'Commercial_Unknown'\n",
      " 'Mixed_Use_Commercial_and_Residential' 'Office_Bank_or_other_financial'\n",
      " 'Public_Assembly_Social_meeting' 'Service_Uncategorized'\n",
      " 'Warehouse_Refrigerated' 'Food_Service_Uncategorized'\n",
      " 'Health_Care_Uncategorized' 'Food_Service_Other'\n",
      " 'Public_Assembly_Movie_Theater' 'Food_Service_Restaurant_or_cafeteria'\n",
      " 'Service_Vehicle_service_repair_shop' 'Health_Care_Inpatient'\n",
      " 'Food_Sales' 'Public_Assembly_Uncategorized'\n",
      " 'Public_Assembly_Drama_theater' 'Parking_Garage'\n",
      " 'Public_Assembly_Recreation' 'Service_Drycleaning_or_Laundry'\n",
      " 'Nursing_Home' 'Health_Care_Outpatient_Clinic'\n",
      " 'Education_Preschool_or_daycare' '5plus_Unit_Building'\n",
      " 'Multifamily_Uncategorized' 'Lodging_Dormitory_or_fraternity_sorority'\n",
      " 'Public_Assembly_Library' 'Public_Safety_Uncategorized'\n",
      " 'Public_Safety_Fire_or_police_station' 'Office_Mixed_use'\n",
      " 'Public_Assembly_Other' 'Public_Safety_Penitentiary'\n",
      " 'Health_Care_Outpatient_Uncategorized' 'Lodging_Other'\n",
      " 'Mixed_Use_Predominantly_Residential' 'Public_Safety_Courthouse'\n",
      " 'Public_Assembly_Stadium' 'Lodging_Uncategorized']\n",
      "number of column building_class is :  2\n",
      "number of column building_class is :  ['Commercial' 'Residential']\n"
     ]
    }
   ],
   "source": [
    "for col in ['State_Factor','facility_type','building_class']:\n",
    "    print(f'number of column {col} is : ',df[col].nunique())\n",
    "    print(f'number of column {col} is : ',df[col].unique())"
   ]
  },
  {
   "cell_type": "markdown",
   "id": "65af6c48",
   "metadata": {},
   "source": [
    "## Label encoder"
   ]
  },
  {
   "cell_type": "code",
   "execution_count": 28,
   "id": "fe2a3db8",
   "metadata": {},
   "outputs": [],
   "source": [
    "from sklearn.preprocessing import LabelEncoder, OneHotEncoder \n",
    "\n",
    "lb=LabelEncoder()\n",
    "\n",
    "for col in ['State_Factor','facility_type']:\n",
    "    df[col] = lb.fit_transform(df[col])"
   ]
  },
  {
   "cell_type": "code",
   "execution_count": 31,
   "id": "57117220",
   "metadata": {},
   "outputs": [],
   "source": [
    "df['State_Factor']=lb.fit_transform(df['State_Factor'])"
   ]
  },
  {
   "cell_type": "code",
   "execution_count": 32,
   "id": "8b2436c8",
   "metadata": {},
   "outputs": [
    {
     "data": {
      "text/plain": [
       "array([0, 1, 2, 3], dtype=int64)"
      ]
     },
     "execution_count": 32,
     "metadata": {},
     "output_type": "execute_result"
    }
   ],
   "source": [
    "df['State_Factor'].unique()"
   ]
  },
  {
   "cell_type": "markdown",
   "id": "95397287",
   "metadata": {},
   "source": [
    "## OneHotEconder"
   ]
  },
  {
   "cell_type": "code",
   "execution_count": 33,
   "id": "69fbe0e4",
   "metadata": {},
   "outputs": [],
   "source": [
    "onehotencoder=OneHotEncoder()\n",
    "\n",
    "X=onehotencoder.fit_transform(np.array(df['building_class']).reshape(-1,1)).toarray()"
   ]
  },
  {
   "cell_type": "code",
   "execution_count": 34,
   "id": "47599c33",
   "metadata": {},
   "outputs": [
    {
     "data": {
      "text/plain": [
       "array([[1., 0.],\n",
       "       [1., 0.],\n",
       "       [1., 0.],\n",
       "       ...,\n",
       "       [0., 1.],\n",
       "       [0., 1.],\n",
       "       [0., 1.]])"
      ]
     },
     "execution_count": 34,
     "metadata": {},
     "output_type": "execute_result"
    }
   ],
   "source": [
    "X"
   ]
  },
  {
   "cell_type": "code",
   "execution_count": 35,
   "id": "f218d36a",
   "metadata": {},
   "outputs": [
    {
     "data": {
      "text/plain": [
       "35"
      ]
     },
     "execution_count": 35,
     "metadata": {},
     "output_type": "execute_result"
    }
   ],
   "source": [
    "len(df.columns)"
   ]
  },
  {
   "cell_type": "code",
   "execution_count": 39,
   "id": "57ea6a04",
   "metadata": {},
   "outputs": [
    {
     "data": {
      "text/plain": [
       "'S35'"
      ]
     },
     "execution_count": 39,
     "metadata": {},
     "output_type": "execute_result"
    }
   ],
   "source": [
    "('S'+str(len(df.columns)))"
   ]
  },
  {
   "cell_type": "code",
   "execution_count": 41,
   "id": "32a0fe19",
   "metadata": {},
   "outputs": [
    {
     "data": {
      "text/plain": [
       "range(0, 2)"
      ]
     },
     "execution_count": 41,
     "metadata": {},
     "output_type": "execute_result"
    }
   ],
   "source": [
    "range(X.shape[1])"
   ]
  },
  {
   "cell_type": "code",
   "execution_count": 40,
   "id": "21d99082",
   "metadata": {},
   "outputs": [
    {
     "data": {
      "text/plain": [
       "2"
      ]
     },
     "execution_count": 40,
     "metadata": {},
     "output_type": "execute_result"
    }
   ],
   "source": [
    "X.shape[1]"
   ]
  },
  {
   "cell_type": "code",
   "execution_count": 42,
   "id": "69feca0e",
   "metadata": {},
   "outputs": [],
   "source": [
    "for i in range(X.shape[1]):\n",
    "    df['N_'+str(len(df.columns))] = X[:,i]\n",
    "    \n",
    "df.drop(['building_class'],axis=1,inplace=True)\n"
   ]
  },
  {
   "cell_type": "code",
   "execution_count": 43,
   "id": "c26fa767",
   "metadata": {},
   "outputs": [
    {
     "data": {
      "text/html": [
       "<div>\n",
       "<style scoped>\n",
       "    .dataframe tbody tr th:only-of-type {\n",
       "        vertical-align: middle;\n",
       "    }\n",
       "\n",
       "    .dataframe tbody tr th {\n",
       "        vertical-align: top;\n",
       "    }\n",
       "\n",
       "    .dataframe thead th {\n",
       "        text-align: right;\n",
       "    }\n",
       "</style>\n",
       "<table border=\"1\" class=\"dataframe\">\n",
       "  <thead>\n",
       "    <tr style=\"text-align: right;\">\n",
       "      <th></th>\n",
       "      <th>Year_Factor</th>\n",
       "      <th>State_Factor</th>\n",
       "      <th>facility_type</th>\n",
       "      <th>floor_area</th>\n",
       "      <th>year_built</th>\n",
       "      <th>ELEVATION</th>\n",
       "      <th>january_min_temp</th>\n",
       "      <th>january_avg_temp</th>\n",
       "      <th>january_max_temp</th>\n",
       "      <th>february_min_temp</th>\n",
       "      <th>...</th>\n",
       "      <th>july_max_temp</th>\n",
       "      <th>august_min_temp</th>\n",
       "      <th>november_max_temp</th>\n",
       "      <th>december_min_temp</th>\n",
       "      <th>days_below_10F</th>\n",
       "      <th>days_below_0F</th>\n",
       "      <th>days_above_80F</th>\n",
       "      <th>site_eui</th>\n",
       "      <th>N_35</th>\n",
       "      <th>N_36</th>\n",
       "    </tr>\n",
       "  </thead>\n",
       "  <tbody>\n",
       "    <tr>\n",
       "      <th>0</th>\n",
       "      <td>1</td>\n",
       "      <td>0</td>\n",
       "      <td>12</td>\n",
       "      <td>61242.0</td>\n",
       "      <td>1942.0</td>\n",
       "      <td>2.4</td>\n",
       "      <td>36</td>\n",
       "      <td>50.5</td>\n",
       "      <td>68</td>\n",
       "      <td>35</td>\n",
       "      <td>...</td>\n",
       "      <td>84</td>\n",
       "      <td>52</td>\n",
       "      <td>72</td>\n",
       "      <td>36</td>\n",
       "      <td>0</td>\n",
       "      <td>0</td>\n",
       "      <td>14</td>\n",
       "      <td>248.682615</td>\n",
       "      <td>1.0</td>\n",
       "      <td>0.0</td>\n",
       "    </tr>\n",
       "    <tr>\n",
       "      <th>1</th>\n",
       "      <td>1</td>\n",
       "      <td>0</td>\n",
       "      <td>54</td>\n",
       "      <td>274000.0</td>\n",
       "      <td>1955.0</td>\n",
       "      <td>1.8</td>\n",
       "      <td>36</td>\n",
       "      <td>50.5</td>\n",
       "      <td>68</td>\n",
       "      <td>35</td>\n",
       "      <td>...</td>\n",
       "      <td>84</td>\n",
       "      <td>52</td>\n",
       "      <td>72</td>\n",
       "      <td>36</td>\n",
       "      <td>0</td>\n",
       "      <td>0</td>\n",
       "      <td>14</td>\n",
       "      <td>26.500150</td>\n",
       "      <td>1.0</td>\n",
       "      <td>0.0</td>\n",
       "    </tr>\n",
       "    <tr>\n",
       "      <th>2</th>\n",
       "      <td>1</td>\n",
       "      <td>0</td>\n",
       "      <td>47</td>\n",
       "      <td>280025.0</td>\n",
       "      <td>1951.0</td>\n",
       "      <td>1.8</td>\n",
       "      <td>36</td>\n",
       "      <td>50.5</td>\n",
       "      <td>68</td>\n",
       "      <td>35</td>\n",
       "      <td>...</td>\n",
       "      <td>84</td>\n",
       "      <td>52</td>\n",
       "      <td>72</td>\n",
       "      <td>36</td>\n",
       "      <td>0</td>\n",
       "      <td>0</td>\n",
       "      <td>14</td>\n",
       "      <td>24.693619</td>\n",
       "      <td>1.0</td>\n",
       "      <td>0.0</td>\n",
       "    </tr>\n",
       "    <tr>\n",
       "      <th>3</th>\n",
       "      <td>1</td>\n",
       "      <td>0</td>\n",
       "      <td>5</td>\n",
       "      <td>55325.0</td>\n",
       "      <td>1980.0</td>\n",
       "      <td>1.8</td>\n",
       "      <td>36</td>\n",
       "      <td>50.5</td>\n",
       "      <td>68</td>\n",
       "      <td>35</td>\n",
       "      <td>...</td>\n",
       "      <td>84</td>\n",
       "      <td>52</td>\n",
       "      <td>72</td>\n",
       "      <td>36</td>\n",
       "      <td>0</td>\n",
       "      <td>0</td>\n",
       "      <td>14</td>\n",
       "      <td>48.406926</td>\n",
       "      <td>1.0</td>\n",
       "      <td>0.0</td>\n",
       "    </tr>\n",
       "    <tr>\n",
       "      <th>4</th>\n",
       "      <td>1</td>\n",
       "      <td>0</td>\n",
       "      <td>55</td>\n",
       "      <td>66000.0</td>\n",
       "      <td>1985.0</td>\n",
       "      <td>2.4</td>\n",
       "      <td>36</td>\n",
       "      <td>50.5</td>\n",
       "      <td>68</td>\n",
       "      <td>35</td>\n",
       "      <td>...</td>\n",
       "      <td>84</td>\n",
       "      <td>52</td>\n",
       "      <td>72</td>\n",
       "      <td>36</td>\n",
       "      <td>0</td>\n",
       "      <td>0</td>\n",
       "      <td>14</td>\n",
       "      <td>3.899395</td>\n",
       "      <td>1.0</td>\n",
       "      <td>0.0</td>\n",
       "    </tr>\n",
       "  </tbody>\n",
       "</table>\n",
       "<p>5 rows × 36 columns</p>\n",
       "</div>"
      ],
      "text/plain": [
       "   Year_Factor  State_Factor  facility_type  floor_area  year_built  \\\n",
       "0            1             0             12     61242.0      1942.0   \n",
       "1            1             0             54    274000.0      1955.0   \n",
       "2            1             0             47    280025.0      1951.0   \n",
       "3            1             0              5     55325.0      1980.0   \n",
       "4            1             0             55     66000.0      1985.0   \n",
       "\n",
       "   ELEVATION  january_min_temp  january_avg_temp  january_max_temp  \\\n",
       "0        2.4                36              50.5                68   \n",
       "1        1.8                36              50.5                68   \n",
       "2        1.8                36              50.5                68   \n",
       "3        1.8                36              50.5                68   \n",
       "4        2.4                36              50.5                68   \n",
       "\n",
       "   february_min_temp  ...  july_max_temp  august_min_temp  november_max_temp  \\\n",
       "0                 35  ...             84               52                 72   \n",
       "1                 35  ...             84               52                 72   \n",
       "2                 35  ...             84               52                 72   \n",
       "3                 35  ...             84               52                 72   \n",
       "4                 35  ...             84               52                 72   \n",
       "\n",
       "   december_min_temp  days_below_10F  days_below_0F  days_above_80F  \\\n",
       "0                 36               0              0              14   \n",
       "1                 36               0              0              14   \n",
       "2                 36               0              0              14   \n",
       "3                 36               0              0              14   \n",
       "4                 36               0              0              14   \n",
       "\n",
       "     site_eui  N_35  N_36  \n",
       "0  248.682615   1.0   0.0  \n",
       "1   26.500150   1.0   0.0  \n",
       "2   24.693619   1.0   0.0  \n",
       "3   48.406926   1.0   0.0  \n",
       "4    3.899395   1.0   0.0  \n",
       "\n",
       "[5 rows x 36 columns]"
      ]
     },
     "execution_count": 43,
     "metadata": {},
     "output_type": "execute_result"
    }
   ],
   "source": [
    "df.head()"
   ]
  },
  {
   "cell_type": "code",
   "execution_count": null,
   "id": "14cde3cb",
   "metadata": {},
   "outputs": [],
   "source": []
  },
  {
   "cell_type": "code",
   "execution_count": null,
   "id": "605e1201",
   "metadata": {},
   "outputs": [],
   "source": []
  },
  {
   "cell_type": "code",
   "execution_count": 44,
   "id": "ed2284ca",
   "metadata": {},
   "outputs": [],
   "source": [
    "y=df['State_Factor']"
   ]
  },
  {
   "cell_type": "code",
   "execution_count": 45,
   "id": "28df82d5",
   "metadata": {},
   "outputs": [
    {
     "data": {
      "text/plain": [
       "0    0\n",
       "1    0\n",
       "2    0\n",
       "3    0\n",
       "4    0\n",
       "Name: State_Factor, dtype: int64"
      ]
     },
     "execution_count": 45,
     "metadata": {},
     "output_type": "execute_result"
    }
   ],
   "source": [
    "y.head()"
   ]
  },
  {
   "cell_type": "code",
   "execution_count": 46,
   "id": "4fb73e36",
   "metadata": {},
   "outputs": [],
   "source": [
    "X=df.drop(['State_Factor'],axis=1)"
   ]
  },
  {
   "cell_type": "code",
   "execution_count": 49,
   "id": "06a42416",
   "metadata": {},
   "outputs": [
    {
     "data": {
      "text/html": [
       "<div>\n",
       "<style scoped>\n",
       "    .dataframe tbody tr th:only-of-type {\n",
       "        vertical-align: middle;\n",
       "    }\n",
       "\n",
       "    .dataframe tbody tr th {\n",
       "        vertical-align: top;\n",
       "    }\n",
       "\n",
       "    .dataframe thead th {\n",
       "        text-align: right;\n",
       "    }\n",
       "</style>\n",
       "<table border=\"1\" class=\"dataframe\">\n",
       "  <thead>\n",
       "    <tr style=\"text-align: right;\">\n",
       "      <th></th>\n",
       "      <th>Year_Factor</th>\n",
       "      <th>facility_type</th>\n",
       "      <th>floor_area</th>\n",
       "      <th>year_built</th>\n",
       "      <th>ELEVATION</th>\n",
       "      <th>january_min_temp</th>\n",
       "      <th>january_avg_temp</th>\n",
       "      <th>january_max_temp</th>\n",
       "      <th>february_min_temp</th>\n",
       "      <th>february_avg_temp</th>\n",
       "      <th>...</th>\n",
       "      <th>july_max_temp</th>\n",
       "      <th>august_min_temp</th>\n",
       "      <th>november_max_temp</th>\n",
       "      <th>december_min_temp</th>\n",
       "      <th>days_below_10F</th>\n",
       "      <th>days_below_0F</th>\n",
       "      <th>days_above_80F</th>\n",
       "      <th>site_eui</th>\n",
       "      <th>N_35</th>\n",
       "      <th>N_36</th>\n",
       "    </tr>\n",
       "  </thead>\n",
       "  <tbody>\n",
       "    <tr>\n",
       "      <th>0</th>\n",
       "      <td>1</td>\n",
       "      <td>12</td>\n",
       "      <td>61242.0</td>\n",
       "      <td>1942.0</td>\n",
       "      <td>2.4</td>\n",
       "      <td>36</td>\n",
       "      <td>50.5</td>\n",
       "      <td>68</td>\n",
       "      <td>35</td>\n",
       "      <td>50.589286</td>\n",
       "      <td>...</td>\n",
       "      <td>84</td>\n",
       "      <td>52</td>\n",
       "      <td>72</td>\n",
       "      <td>36</td>\n",
       "      <td>0</td>\n",
       "      <td>0</td>\n",
       "      <td>14</td>\n",
       "      <td>248.682615</td>\n",
       "      <td>1.0</td>\n",
       "      <td>0.0</td>\n",
       "    </tr>\n",
       "    <tr>\n",
       "      <th>1</th>\n",
       "      <td>1</td>\n",
       "      <td>54</td>\n",
       "      <td>274000.0</td>\n",
       "      <td>1955.0</td>\n",
       "      <td>1.8</td>\n",
       "      <td>36</td>\n",
       "      <td>50.5</td>\n",
       "      <td>68</td>\n",
       "      <td>35</td>\n",
       "      <td>50.589286</td>\n",
       "      <td>...</td>\n",
       "      <td>84</td>\n",
       "      <td>52</td>\n",
       "      <td>72</td>\n",
       "      <td>36</td>\n",
       "      <td>0</td>\n",
       "      <td>0</td>\n",
       "      <td>14</td>\n",
       "      <td>26.500150</td>\n",
       "      <td>1.0</td>\n",
       "      <td>0.0</td>\n",
       "    </tr>\n",
       "    <tr>\n",
       "      <th>2</th>\n",
       "      <td>1</td>\n",
       "      <td>47</td>\n",
       "      <td>280025.0</td>\n",
       "      <td>1951.0</td>\n",
       "      <td>1.8</td>\n",
       "      <td>36</td>\n",
       "      <td>50.5</td>\n",
       "      <td>68</td>\n",
       "      <td>35</td>\n",
       "      <td>50.589286</td>\n",
       "      <td>...</td>\n",
       "      <td>84</td>\n",
       "      <td>52</td>\n",
       "      <td>72</td>\n",
       "      <td>36</td>\n",
       "      <td>0</td>\n",
       "      <td>0</td>\n",
       "      <td>14</td>\n",
       "      <td>24.693619</td>\n",
       "      <td>1.0</td>\n",
       "      <td>0.0</td>\n",
       "    </tr>\n",
       "    <tr>\n",
       "      <th>3</th>\n",
       "      <td>1</td>\n",
       "      <td>5</td>\n",
       "      <td>55325.0</td>\n",
       "      <td>1980.0</td>\n",
       "      <td>1.8</td>\n",
       "      <td>36</td>\n",
       "      <td>50.5</td>\n",
       "      <td>68</td>\n",
       "      <td>35</td>\n",
       "      <td>50.589286</td>\n",
       "      <td>...</td>\n",
       "      <td>84</td>\n",
       "      <td>52</td>\n",
       "      <td>72</td>\n",
       "      <td>36</td>\n",
       "      <td>0</td>\n",
       "      <td>0</td>\n",
       "      <td>14</td>\n",
       "      <td>48.406926</td>\n",
       "      <td>1.0</td>\n",
       "      <td>0.0</td>\n",
       "    </tr>\n",
       "    <tr>\n",
       "      <th>4</th>\n",
       "      <td>1</td>\n",
       "      <td>55</td>\n",
       "      <td>66000.0</td>\n",
       "      <td>1985.0</td>\n",
       "      <td>2.4</td>\n",
       "      <td>36</td>\n",
       "      <td>50.5</td>\n",
       "      <td>68</td>\n",
       "      <td>35</td>\n",
       "      <td>50.589286</td>\n",
       "      <td>...</td>\n",
       "      <td>84</td>\n",
       "      <td>52</td>\n",
       "      <td>72</td>\n",
       "      <td>36</td>\n",
       "      <td>0</td>\n",
       "      <td>0</td>\n",
       "      <td>14</td>\n",
       "      <td>3.899395</td>\n",
       "      <td>1.0</td>\n",
       "      <td>0.0</td>\n",
       "    </tr>\n",
       "  </tbody>\n",
       "</table>\n",
       "<p>5 rows × 35 columns</p>\n",
       "</div>"
      ],
      "text/plain": [
       "   Year_Factor  facility_type  floor_area  year_built  ELEVATION  \\\n",
       "0            1             12     61242.0      1942.0        2.4   \n",
       "1            1             54    274000.0      1955.0        1.8   \n",
       "2            1             47    280025.0      1951.0        1.8   \n",
       "3            1              5     55325.0      1980.0        1.8   \n",
       "4            1             55     66000.0      1985.0        2.4   \n",
       "\n",
       "   january_min_temp  january_avg_temp  january_max_temp  february_min_temp  \\\n",
       "0                36              50.5                68                 35   \n",
       "1                36              50.5                68                 35   \n",
       "2                36              50.5                68                 35   \n",
       "3                36              50.5                68                 35   \n",
       "4                36              50.5                68                 35   \n",
       "\n",
       "   february_avg_temp  ...  july_max_temp  august_min_temp  november_max_temp  \\\n",
       "0          50.589286  ...             84               52                 72   \n",
       "1          50.589286  ...             84               52                 72   \n",
       "2          50.589286  ...             84               52                 72   \n",
       "3          50.589286  ...             84               52                 72   \n",
       "4          50.589286  ...             84               52                 72   \n",
       "\n",
       "   december_min_temp  days_below_10F  days_below_0F  days_above_80F  \\\n",
       "0                 36               0              0              14   \n",
       "1                 36               0              0              14   \n",
       "2                 36               0              0              14   \n",
       "3                 36               0              0              14   \n",
       "4                 36               0              0              14   \n",
       "\n",
       "     site_eui  N_35  N_36  \n",
       "0  248.682615   1.0   0.0  \n",
       "1   26.500150   1.0   0.0  \n",
       "2   24.693619   1.0   0.0  \n",
       "3   48.406926   1.0   0.0  \n",
       "4    3.899395   1.0   0.0  \n",
       "\n",
       "[5 rows x 35 columns]"
      ]
     },
     "execution_count": 49,
     "metadata": {},
     "output_type": "execute_result"
    }
   ],
   "source": [
    "X.head()"
   ]
  },
  {
   "cell_type": "code",
   "execution_count": null,
   "id": "71ab3d40",
   "metadata": {},
   "outputs": [],
   "source": []
  },
  {
   "cell_type": "code",
   "execution_count": 50,
   "id": "6cc5a54f",
   "metadata": {},
   "outputs": [
    {
     "name": "stdout",
     "output_type": "stream",
     "text": [
      "<class 'pandas.core.frame.DataFrame'>\n",
      "Int64Index: 31081 entries, 0 to 31106\n",
      "Data columns (total 35 columns):\n",
      " #   Column             Non-Null Count  Dtype  \n",
      "---  ------             --------------  -----  \n",
      " 0   Year_Factor        31081 non-null  int64  \n",
      " 1   facility_type      31081 non-null  int32  \n",
      " 2   floor_area         31081 non-null  float64\n",
      " 3   year_built         31081 non-null  float64\n",
      " 4   ELEVATION          31081 non-null  float64\n",
      " 5   january_min_temp   31081 non-null  int64  \n",
      " 6   january_avg_temp   31081 non-null  float64\n",
      " 7   january_max_temp   31081 non-null  int64  \n",
      " 8   february_min_temp  31081 non-null  int64  \n",
      " 9   february_avg_temp  31081 non-null  float64\n",
      " 10  february_max_temp  31081 non-null  int64  \n",
      " 11  march_min_temp     31081 non-null  int64  \n",
      " 12  march_avg_temp     31081 non-null  float64\n",
      " 13  march_max_temp     31081 non-null  int64  \n",
      " 14  april_min_temp     31081 non-null  int64  \n",
      " 15  april_avg_temp     31081 non-null  float64\n",
      " 16  april_max_temp     31081 non-null  int64  \n",
      " 17  may_min_temp       31081 non-null  int64  \n",
      " 18  may_avg_temp       31081 non-null  float64\n",
      " 19  may_max_temp       31081 non-null  int64  \n",
      " 20  june_min_temp      31081 non-null  int64  \n",
      " 21  june_avg_temp      31081 non-null  float64\n",
      " 22  june_max_temp      31081 non-null  int64  \n",
      " 23  july_min_temp      31081 non-null  int64  \n",
      " 24  july_avg_temp      31081 non-null  float64\n",
      " 25  july_max_temp      31081 non-null  int64  \n",
      " 26  august_min_temp    31081 non-null  int64  \n",
      " 27  november_max_temp  31081 non-null  int64  \n",
      " 28  december_min_temp  31081 non-null  int64  \n",
      " 29  days_below_10F     31081 non-null  int64  \n",
      " 30  days_below_0F      31081 non-null  int64  \n",
      " 31  days_above_80F     31081 non-null  int64  \n",
      " 32  site_eui           31081 non-null  float64\n",
      " 33  N_35               31081 non-null  float64\n",
      " 34  N_36               31081 non-null  float64\n",
      "dtypes: float64(13), int32(1), int64(21)\n",
      "memory usage: 8.4 MB\n"
     ]
    }
   ],
   "source": [
    "X.info()"
   ]
  },
  {
   "cell_type": "code",
   "execution_count": null,
   "id": "f134097e",
   "metadata": {},
   "outputs": [],
   "source": []
  },
  {
   "cell_type": "markdown",
   "id": "513c6007",
   "metadata": {},
   "source": [
    "# Data Scaling  ( Normalization)"
   ]
  },
  {
   "cell_type": "markdown",
   "id": "66439f62",
   "metadata": {},
   "source": [
    "## MinmaxScaler"
   ]
  },
  {
   "cell_type": "code",
   "execution_count": 51,
   "id": "0af2d1c5",
   "metadata": {},
   "outputs": [],
   "source": [
    "# MinMaxScaler\n",
    "from sklearn.preprocessing import MinMaxScaler\n",
    "my_scaler = MinMaxScaler()\n",
    "X_scaler_minMax = my_scaler.fit_transform(X)"
   ]
  },
  {
   "cell_type": "code",
   "execution_count": 52,
   "id": "5f4c6d94",
   "metadata": {},
   "outputs": [
    {
     "data": {
      "text/plain": [
       "(0.0, 1.0000000000000002)"
      ]
     },
     "execution_count": 52,
     "metadata": {},
     "output_type": "execute_result"
    }
   ],
   "source": [
    "X_scaler_minMax.min(),X_scaler_minMax.max()"
   ]
  },
  {
   "cell_type": "markdown",
   "id": "fbac171d",
   "metadata": {},
   "source": [
    "## StandardScaler"
   ]
  },
  {
   "cell_type": "code",
   "execution_count": 53,
   "id": "c3167e98",
   "metadata": {},
   "outputs": [],
   "source": [
    "# Standardization\n",
    "from sklearn.preprocessing import StandardScaler\n",
    "my_scaler = StandardScaler()\n",
    "X_scaler_SD = my_scaler.fit_transform(X)"
   ]
  },
  {
   "cell_type": "code",
   "execution_count": 54,
   "id": "00fbf1f9",
   "metadata": {},
   "outputs": [
    {
     "data": {
      "text/plain": [
       "(-48.040129536031344, 23.37089752761405)"
      ]
     },
     "execution_count": 54,
     "metadata": {},
     "output_type": "execute_result"
    }
   ],
   "source": [
    "X_scaler_SD.min(),X_scaler_SD.max()"
   ]
  },
  {
   "cell_type": "code",
   "execution_count": null,
   "id": "1ec9c9c0",
   "metadata": {},
   "outputs": [],
   "source": []
  },
  {
   "cell_type": "code",
   "execution_count": 55,
   "id": "1be6e347",
   "metadata": {},
   "outputs": [],
   "source": [
    "# The FLAIR Dataset\n",
    "df1=pd.read_excel('FLAIR.xlsx')"
   ]
  },
  {
   "cell_type": "code",
   "execution_count": 56,
   "id": "e2804a17",
   "metadata": {},
   "outputs": [
    {
     "data": {
      "text/html": [
       "<div>\n",
       "<style scoped>\n",
       "    .dataframe tbody tr th:only-of-type {\n",
       "        vertical-align: middle;\n",
       "    }\n",
       "\n",
       "    .dataframe tbody tr th {\n",
       "        vertical-align: top;\n",
       "    }\n",
       "\n",
       "    .dataframe thead th {\n",
       "        text-align: right;\n",
       "    }\n",
       "</style>\n",
       "<table border=\"1\" class=\"dataframe\">\n",
       "  <thead>\n",
       "    <tr style=\"text-align: right;\">\n",
       "      <th></th>\n",
       "      <th>Grade</th>\n",
       "      <th>VoxelVolume</th>\n",
       "      <th>Maximum3DDiameter</th>\n",
       "      <th>MeshVolume</th>\n",
       "      <th>MajorAxisLength</th>\n",
       "      <th>Sphericity</th>\n",
       "      <th>LeastAxisLength</th>\n",
       "      <th>Elongation</th>\n",
       "      <th>SurfaceVolumeRatio</th>\n",
       "      <th>Maximum2DDiameterSlice</th>\n",
       "      <th>...</th>\n",
       "      <th>HighGrayLevelZoneEmphasis.8</th>\n",
       "      <th>SmallAreaEmphasis.8</th>\n",
       "      <th>LowGrayLevelZoneEmphasis.8</th>\n",
       "      <th>ZoneEntropy.8</th>\n",
       "      <th>SmallAreaLowGrayLevelEmphasis.8</th>\n",
       "      <th>Coarseness.8</th>\n",
       "      <th>Complexity.8</th>\n",
       "      <th>Strength.8</th>\n",
       "      <th>Contrast.17</th>\n",
       "      <th>Busyness.8</th>\n",
       "    </tr>\n",
       "  </thead>\n",
       "  <tbody>\n",
       "    <tr>\n",
       "      <th>0</th>\n",
       "      <td>G3</td>\n",
       "      <td>66128.198147</td>\n",
       "      <td>76.445742</td>\n",
       "      <td>65961.755872</td>\n",
       "      <td>65.085462</td>\n",
       "      <td>0.429089</td>\n",
       "      <td>38.263796</td>\n",
       "      <td>0.767897</td>\n",
       "      <td>0.278937</td>\n",
       "      <td>75.668933</td>\n",
       "      <td>...</td>\n",
       "      <td>277.402591</td>\n",
       "      <td>0.506227</td>\n",
       "      <td>0.006699</td>\n",
       "      <td>7.335374</td>\n",
       "      <td>0.003439</td>\n",
       "      <td>0.000290</td>\n",
       "      <td>493.516512</td>\n",
       "      <td>0.160640</td>\n",
       "      <td>0.037193</td>\n",
       "      <td>4.642676</td>\n",
       "    </tr>\n",
       "    <tr>\n",
       "      <th>1</th>\n",
       "      <td>G3</td>\n",
       "      <td>42859.730845</td>\n",
       "      <td>80.357188</td>\n",
       "      <td>42698.161698</td>\n",
       "      <td>60.921389</td>\n",
       "      <td>0.242761</td>\n",
       "      <td>32.889643</td>\n",
       "      <td>0.828271</td>\n",
       "      <td>0.569949</td>\n",
       "      <td>67.817658</td>\n",
       "      <td>...</td>\n",
       "      <td>1330.520271</td>\n",
       "      <td>0.553848</td>\n",
       "      <td>0.001828</td>\n",
       "      <td>8.483351</td>\n",
       "      <td>0.001098</td>\n",
       "      <td>0.000302</td>\n",
       "      <td>3753.271317</td>\n",
       "      <td>0.925349</td>\n",
       "      <td>0.074086</td>\n",
       "      <td>1.285368</td>\n",
       "    </tr>\n",
       "    <tr>\n",
       "      <th>2</th>\n",
       "      <td>G3</td>\n",
       "      <td>82152.352810</td>\n",
       "      <td>75.203906</td>\n",
       "      <td>82058.924059</td>\n",
       "      <td>59.102747</td>\n",
       "      <td>0.631804</td>\n",
       "      <td>40.248334</td>\n",
       "      <td>0.866919</td>\n",
       "      <td>0.176141</td>\n",
       "      <td>68.502484</td>\n",
       "      <td>...</td>\n",
       "      <td>922.439112</td>\n",
       "      <td>0.528537</td>\n",
       "      <td>0.002165</td>\n",
       "      <td>7.837059</td>\n",
       "      <td>0.001278</td>\n",
       "      <td>0.000327</td>\n",
       "      <td>1169.237649</td>\n",
       "      <td>0.425810</td>\n",
       "      <td>0.040942</td>\n",
       "      <td>1.333684</td>\n",
       "    </tr>\n",
       "    <tr>\n",
       "      <th>3</th>\n",
       "      <td>G2</td>\n",
       "      <td>170801.825047</td>\n",
       "      <td>104.667500</td>\n",
       "      <td>170412.851512</td>\n",
       "      <td>88.798239</td>\n",
       "      <td>0.522666</td>\n",
       "      <td>49.082383</td>\n",
       "      <td>0.669372</td>\n",
       "      <td>0.166888</td>\n",
       "      <td>102.222286</td>\n",
       "      <td>...</td>\n",
       "      <td>1269.891485</td>\n",
       "      <td>0.534633</td>\n",
       "      <td>0.000987</td>\n",
       "      <td>7.606911</td>\n",
       "      <td>0.000577</td>\n",
       "      <td>0.000108</td>\n",
       "      <td>1642.857844</td>\n",
       "      <td>0.186846</td>\n",
       "      <td>0.026610</td>\n",
       "      <td>2.797768</td>\n",
       "    </tr>\n",
       "    <tr>\n",
       "      <th>4</th>\n",
       "      <td>G3</td>\n",
       "      <td>183574.563980</td>\n",
       "      <td>136.212971</td>\n",
       "      <td>183314.798733</td>\n",
       "      <td>108.628040</td>\n",
       "      <td>0.406995</td>\n",
       "      <td>46.002675</td>\n",
       "      <td>0.578327</td>\n",
       "      <td>0.209168</td>\n",
       "      <td>117.988150</td>\n",
       "      <td>...</td>\n",
       "      <td>2046.850844</td>\n",
       "      <td>0.553940</td>\n",
       "      <td>0.000650</td>\n",
       "      <td>7.717110</td>\n",
       "      <td>0.000385</td>\n",
       "      <td>0.000100</td>\n",
       "      <td>2903.731334</td>\n",
       "      <td>0.460532</td>\n",
       "      <td>0.011195</td>\n",
       "      <td>1.517517</td>\n",
       "    </tr>\n",
       "  </tbody>\n",
       "</table>\n",
       "<p>5 rows × 852 columns</p>\n",
       "</div>"
      ],
      "text/plain": [
       "  Grade    VoxelVolume  Maximum3DDiameter     MeshVolume  MajorAxisLength  \\\n",
       "0    G3   66128.198147          76.445742   65961.755872        65.085462   \n",
       "1    G3   42859.730845          80.357188   42698.161698        60.921389   \n",
       "2    G3   82152.352810          75.203906   82058.924059        59.102747   \n",
       "3    G2  170801.825047         104.667500  170412.851512        88.798239   \n",
       "4    G3  183574.563980         136.212971  183314.798733       108.628040   \n",
       "\n",
       "   Sphericity  LeastAxisLength  Elongation  SurfaceVolumeRatio  \\\n",
       "0    0.429089        38.263796    0.767897            0.278937   \n",
       "1    0.242761        32.889643    0.828271            0.569949   \n",
       "2    0.631804        40.248334    0.866919            0.176141   \n",
       "3    0.522666        49.082383    0.669372            0.166888   \n",
       "4    0.406995        46.002675    0.578327            0.209168   \n",
       "\n",
       "   Maximum2DDiameterSlice  ...  HighGrayLevelZoneEmphasis.8  \\\n",
       "0               75.668933  ...                   277.402591   \n",
       "1               67.817658  ...                  1330.520271   \n",
       "2               68.502484  ...                   922.439112   \n",
       "3              102.222286  ...                  1269.891485   \n",
       "4              117.988150  ...                  2046.850844   \n",
       "\n",
       "   SmallAreaEmphasis.8  LowGrayLevelZoneEmphasis.8  ZoneEntropy.8  \\\n",
       "0             0.506227                    0.006699       7.335374   \n",
       "1             0.553848                    0.001828       8.483351   \n",
       "2             0.528537                    0.002165       7.837059   \n",
       "3             0.534633                    0.000987       7.606911   \n",
       "4             0.553940                    0.000650       7.717110   \n",
       "\n",
       "   SmallAreaLowGrayLevelEmphasis.8  Coarseness.8  Complexity.8  Strength.8  \\\n",
       "0                         0.003439      0.000290    493.516512    0.160640   \n",
       "1                         0.001098      0.000302   3753.271317    0.925349   \n",
       "2                         0.001278      0.000327   1169.237649    0.425810   \n",
       "3                         0.000577      0.000108   1642.857844    0.186846   \n",
       "4                         0.000385      0.000100   2903.731334    0.460532   \n",
       "\n",
       "   Contrast.17  Busyness.8  \n",
       "0     0.037193    4.642676  \n",
       "1     0.074086    1.285368  \n",
       "2     0.040942    1.333684  \n",
       "3     0.026610    2.797768  \n",
       "4     0.011195    1.517517  \n",
       "\n",
       "[5 rows x 852 columns]"
      ]
     },
     "execution_count": 56,
     "metadata": {},
     "output_type": "execute_result"
    }
   ],
   "source": [
    "df1.head()"
   ]
  },
  {
   "cell_type": "code",
   "execution_count": 57,
   "id": "ba66c8c8",
   "metadata": {},
   "outputs": [
    {
     "name": "stdout",
     "output_type": "stream",
     "text": [
      "Grade        : \n",
      " G2    68\n",
      "G3    67\n",
      "Name: Grade, dtype: int64\n",
      "\n",
      "\n",
      "G2    0.503704\n",
      "G3    0.496296\n",
      "Name: Grade, dtype: float64\n"
     ]
    },
    {
     "data": {
      "text/plain": [
       "<AxesSubplot:title={'center':'Grade'}>"
      ]
     },
     "execution_count": 57,
     "metadata": {},
     "output_type": "execute_result"
    },
    {
     "data": {
      "image/png": "[encoded data removed]",
      "text/plain": [
       "<Figure size 432x288 with 1 Axes>"
      ]
     },
     "metadata": {
      "needs_background": "light"
     },
     "output_type": "display_data"
    }
   ],
   "source": [
    "# Lets know how many values\n",
    "print(\"Grade        : \\n\",df1[\"Grade\"].value_counts())\n",
    "print(\"\\n\")\n",
    "print(df1[\"Grade\"].value_counts(normalize=True))\n",
    "\n",
    "# plot.bar(title='') function is used to plot bargraph \n",
    "df1[\"Grade\"].value_counts().plot.bar(title=\"Grade\")\n"
   ]
  },
  {
   "cell_type": "code",
   "execution_count": 35,
   "id": "b3d72d0d",
   "metadata": {},
   "outputs": [
    {
     "data": {
      "text/plain": [
       "(135, 852)"
      ]
     },
     "execution_count": 35,
     "metadata": {},
     "output_type": "execute_result"
    }
   ],
   "source": [
    "df1.shape"
   ]
  },
  {
   "cell_type": "markdown",
   "id": "00a6c44f",
   "metadata": {},
   "source": [
    "# Dimensionality Reduction"
   ]
  },
  {
   "cell_type": "code",
   "execution_count": 58,
   "id": "386f00fd",
   "metadata": {},
   "outputs": [],
   "source": [
    "X=df1.iloc[:,1:]\n",
    "y=df1.iloc[:,0]"
   ]
  },
  {
   "cell_type": "code",
   "execution_count": 61,
   "id": "064e7de3",
   "metadata": {},
   "outputs": [],
   "source": [
    "from sklearn.decomposition import PCA\n",
    "pc=PCA(n_components=64)\n",
    "data=pc.fit_transform(X,y)"
   ]
  },
  {
   "cell_type": "code",
   "execution_count": 62,
   "id": "15d3c6e0",
   "metadata": {},
   "outputs": [
    {
     "data": {
      "text/plain": [
       "(135, 64)"
      ]
     },
     "execution_count": 62,
     "metadata": {},
     "output_type": "execute_result"
    }
   ],
   "source": [
    "data.shape"
   ]
  },
  {
   "cell_type": "markdown",
   "id": "104ae454",
   "metadata": {},
   "source": [
    "# Feature Selection"
   ]
  },
  {
   "cell_type": "code",
   "execution_count": 63,
   "id": "451d2550",
   "metadata": {},
   "outputs": [
    {
     "data": {
      "text/plain": [
       "(135, 15)"
      ]
     },
     "execution_count": 63,
     "metadata": {},
     "output_type": "execute_result"
    }
   ],
   "source": [
    "from sklearn.feature_selection import SelectKBest\n",
    "\n",
    "f=SelectKBest(k=15)\n",
    "my_data1=f.fit_transform(data,y)\n",
    "my_data1.shape"
   ]
  },
  {
   "cell_type": "code",
   "execution_count": 65,
   "id": "069ea2b8",
   "metadata": {},
   "outputs": [
    {
     "data": {
      "text/plain": [
       "(135, 19)"
      ]
     },
     "execution_count": 65,
     "metadata": {},
     "output_type": "execute_result"
    }
   ],
   "source": [
    "from sklearn.feature_selection import SelectPercentile\n",
    "\n",
    "f=SelectPercentile(percentile=30)\n",
    "my_data2=f.fit_transform(data,y)\n",
    "my_data2.shape"
   ]
  },
  {
   "cell_type": "code",
   "execution_count": 67,
   "id": "ae0aa9fa",
   "metadata": {},
   "outputs": [
    {
     "data": {
      "text/plain": [
       "(135, 5)"
      ]
     },
     "execution_count": 67,
     "metadata": {},
     "output_type": "execute_result"
    }
   ],
   "source": [
    "from sklearn.feature_selection import GenericUnivariateSelect ,f_classif,chi2\n",
    "\n",
    "selecting=GenericUnivariateSelect(score_func=f_classif,param=5,mode='k_best')\n",
    "my_data3=selecting.fit_transform(data,y)\n",
    "my_data3.shape"
   ]
  },
  {
   "cell_type": "code",
   "execution_count": 68,
   "id": "956978e2",
   "metadata": {},
   "outputs": [],
   "source": [
    "from sklearn.preprocessing import LabelEncoder\n",
    "\n",
    "lb=LabelEncoder()\n",
    "df1[\"Grade\"] = lb.fit_transform(df1[\"Grade\"])\n",
    "\n",
    "#renaming \n",
    "#df1['Grade']=df1['Grade'].replace({0:'G2' , 1: 'G3'})"
   ]
  },
  {
   "cell_type": "code",
   "execution_count": 70,
   "id": "3ba04a13",
   "metadata": {},
   "outputs": [
    {
     "data": {
      "text/plain": [
       "0    1\n",
       "1    1\n",
       "2    1\n",
       "3    0\n",
       "4    1\n",
       "Name: Grade, dtype: int32"
      ]
     },
     "execution_count": 70,
     "metadata": {},
     "output_type": "execute_result"
    }
   ],
   "source": [
    "df1[\"Grade\"].head()"
   ]
  },
  {
   "cell_type": "code",
   "execution_count": 69,
   "id": "391c30d9",
   "metadata": {},
   "outputs": [
    {
     "data": {
      "text/plain": [
       "((135, 15), (135,))"
      ]
     },
     "execution_count": 69,
     "metadata": {},
     "output_type": "execute_result"
    }
   ],
   "source": [
    "my_data1.shape,df1['Grade'].shape"
   ]
  },
  {
   "cell_type": "markdown",
   "id": "cdf07608",
   "metadata": {},
   "source": [
    "# Spliting Data \n",
    "### train test split"
   ]
  },
  {
   "cell_type": "code",
   "execution_count": 71,
   "id": "e159c4c9",
   "metadata": {},
   "outputs": [],
   "source": [
    "# Split into Input and Output Elements\n",
    "from sklearn.model_selection import train_test_split\n",
    "X_train, X_test, y_train, y_test = train_test_split(my_data1,df1[\"Grade\"],\n",
    "                                   test_size= 0.20, random_state=100, stratify=df1[\"Grade\"])"
   ]
  },
  {
   "cell_type": "code",
   "execution_count": 72,
   "id": "7320852e",
   "metadata": {},
   "outputs": [
    {
     "name": "stdout",
     "output_type": "stream",
     "text": [
      "X_train =  (108, 15)  y_train =  (108,)\n",
      "X_test  =  (27, 15)  y_test  =  (27,)\n"
     ]
    }
   ],
   "source": [
    "print(\"X_train = \",X_train.shape ,\" y_train = \", y_train.shape)\n",
    "print(\"X_test  = \",X_test.shape ,\" y_test  = \", y_test.shape)"
   ]
  },
  {
   "cell_type": "markdown",
   "id": "d48c141a",
   "metadata": {},
   "source": [
    "# KFold Spliting"
   ]
  },
  {
   "cell_type": "code",
   "execution_count": 49,
   "id": "dad27fe0",
   "metadata": {},
   "outputs": [
    {
     "name": "stdout",
     "output_type": "stream",
     "text": [
      "Fold 1\n",
      "KNNModel Train Score is :  0.5888888888888889\n",
      "KNNModel Test Score is :  0.4222222222222222\n",
      "\n",
      "Fold 2\n",
      "KNNModel Train Score is :  0.5888888888888889\n",
      "KNNModel Test Score is :  0.4444444444444444\n",
      "\n",
      "Fold 3\n",
      "KNNModel Train Score is :  0.6111111111111112\n",
      "KNNModel Test Score is :  0.5777777777777777\n",
      "\n"
     ]
    }
   ],
   "source": [
    "from sklearn.model_selection import KFold\n",
    "\n",
    "KNNModel = KNeighborsClassifier(n_neighbors = 30, metric = 'minkowski', p = 2) \n",
    "\n",
    "\n",
    "kf = KFold(n_splits=3)\n",
    "\n",
    "\n",
    "for i, (train_index, test_index) in enumerate(kf.split(my_data1)):\n",
    "    \n",
    "    KNNModel.fit(my_data1[train_index], df1[\"Grade\"][train_index])\n",
    "    y_pred=KNNModel.predict(my_data1[test_index])\n",
    "    #Calculating Details\n",
    "    print(f\"Fold {i+1}\")\n",
    "    print('KNNModel Train Score is : ' , KNNModel.score(my_data1[train_index], df1[\"Grade\"][train_index]))\n",
    "    print('KNNModel Test Score is : ' , KNNModel.score(my_data1[test_index], df1[\"Grade\"][test_index]))\n",
    "    print()"
   ]
  },
  {
   "cell_type": "code",
   "execution_count": null,
   "id": "0ac18d48",
   "metadata": {},
   "outputs": [],
   "source": []
  },
  {
   "cell_type": "code",
   "execution_count": null,
   "id": "c29a1355",
   "metadata": {},
   "outputs": [],
   "source": []
  }
 ],
 "metadata": {
  "kernelspec": {
   "display_name": "Python 3 (ipykernel)",
   "language": "python",
   "name": "python3"
  },
  "language_info": {
   "codemirror_mode": {
    "name": "ipython",
    "version": 3
   },
   "file_extension": ".py",
   "mimetype": "text/x-python",
   "name": "python",
   "nbconvert_exporter": "python",
   "pygments_lexer": "ipython3",
   "version": "3.11.5"
  }
 },
 "nbformat": 4,
 "nbformat_minor": 5
}
