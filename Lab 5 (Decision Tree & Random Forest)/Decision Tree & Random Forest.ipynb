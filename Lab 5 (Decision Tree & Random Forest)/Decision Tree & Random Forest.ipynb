{
 "cells": [
  {
   "cell_type": "markdown",
   "id": "90627efc",
   "metadata": {},
   "source": [
    "# Library "
   ]
  },
  {
   "cell_type": "code",
   "execution_count": 1,
   "id": "575c20f5",
   "metadata": {},
   "outputs": [],
   "source": [
    "import numpy as np\n",
    "import pandas as pd\n",
    "import matplotlib.pyplot as plt"
   ]
  },
  {
   "cell_type": "markdown",
   "id": "7a50c0ee",
   "metadata": {},
   "source": [
    "# Read data"
   ]
  },
  {
   "cell_type": "code",
   "execution_count": 2,
   "id": "c3cec9f7-a2ec-4c71-bf34-46f360b065c2",
   "metadata": {},
   "outputs": [],
   "source": [
    "df=pd.read_csv('Heart attack.csv')"
   ]
  },
  {
   "cell_type": "code",
   "execution_count": 3,
   "id": "7710b197-d947-47f3-adcf-9d321f954190",
   "metadata": {},
   "outputs": [
    {
     "data": {
      "text/html": [
       "<div>\n",
       "<style scoped>\n",
       "    .dataframe tbody tr th:only-of-type {\n",
       "        vertical-align: middle;\n",
       "    }\n",
       "\n",
       "    .dataframe tbody tr th {\n",
       "        vertical-align: top;\n",
       "    }\n",
       "\n",
       "    .dataframe thead th {\n",
       "        text-align: right;\n",
       "    }\n",
       "</style>\n",
       "<table border=\"1\" class=\"dataframe\">\n",
       "  <thead>\n",
       "    <tr style=\"text-align: right;\">\n",
       "      <th></th>\n",
       "      <th>gender</th>\n",
       "      <th>age</th>\n",
       "      <th>hypertension</th>\n",
       "      <th>heart_disease</th>\n",
       "      <th>ever_married</th>\n",
       "      <th>work_type</th>\n",
       "      <th>Residence_type</th>\n",
       "      <th>avg_glucose_level</th>\n",
       "      <th>bmi</th>\n",
       "      <th>smoking_status</th>\n",
       "      <th>stroke</th>\n",
       "    </tr>\n",
       "  </thead>\n",
       "  <tbody>\n",
       "    <tr>\n",
       "      <th>0</th>\n",
       "      <td>0.5</td>\n",
       "      <td>0.816895</td>\n",
       "      <td>0.0</td>\n",
       "      <td>1.0</td>\n",
       "      <td>1.0</td>\n",
       "      <td>0.50</td>\n",
       "      <td>1.0</td>\n",
       "      <td>0.801265</td>\n",
       "      <td>0.301260</td>\n",
       "      <td>0.333333</td>\n",
       "      <td>1</td>\n",
       "    </tr>\n",
       "    <tr>\n",
       "      <th>1</th>\n",
       "      <td>0.0</td>\n",
       "      <td>0.743652</td>\n",
       "      <td>0.0</td>\n",
       "      <td>0.0</td>\n",
       "      <td>1.0</td>\n",
       "      <td>0.75</td>\n",
       "      <td>0.0</td>\n",
       "      <td>0.679023</td>\n",
       "      <td>0.212981</td>\n",
       "      <td>0.666667</td>\n",
       "      <td>1</td>\n",
       "    </tr>\n",
       "    <tr>\n",
       "      <th>2</th>\n",
       "      <td>0.5</td>\n",
       "      <td>0.975586</td>\n",
       "      <td>0.0</td>\n",
       "      <td>1.0</td>\n",
       "      <td>1.0</td>\n",
       "      <td>0.50</td>\n",
       "      <td>0.0</td>\n",
       "      <td>0.234512</td>\n",
       "      <td>0.254296</td>\n",
       "      <td>0.666667</td>\n",
       "      <td>1</td>\n",
       "    </tr>\n",
       "    <tr>\n",
       "      <th>3</th>\n",
       "      <td>0.0</td>\n",
       "      <td>0.597168</td>\n",
       "      <td>0.0</td>\n",
       "      <td>0.0</td>\n",
       "      <td>1.0</td>\n",
       "      <td>0.50</td>\n",
       "      <td>1.0</td>\n",
       "      <td>0.536008</td>\n",
       "      <td>0.276060</td>\n",
       "      <td>1.000000</td>\n",
       "      <td>1</td>\n",
       "    </tr>\n",
       "    <tr>\n",
       "      <th>4</th>\n",
       "      <td>0.0</td>\n",
       "      <td>0.963379</td>\n",
       "      <td>1.0</td>\n",
       "      <td>0.0</td>\n",
       "      <td>1.0</td>\n",
       "      <td>0.75</td>\n",
       "      <td>0.0</td>\n",
       "      <td>0.549349</td>\n",
       "      <td>0.156930</td>\n",
       "      <td>0.666667</td>\n",
       "      <td>1</td>\n",
       "    </tr>\n",
       "  </tbody>\n",
       "</table>\n",
       "</div>"
      ],
      "text/plain": [
       "   gender       age  hypertension  heart_disease  ever_married  work_type  \\\n",
       "0     0.5  0.816895           0.0            1.0           1.0       0.50   \n",
       "1     0.0  0.743652           0.0            0.0           1.0       0.75   \n",
       "2     0.5  0.975586           0.0            1.0           1.0       0.50   \n",
       "3     0.0  0.597168           0.0            0.0           1.0       0.50   \n",
       "4     0.0  0.963379           1.0            0.0           1.0       0.75   \n",
       "\n",
       "   Residence_type  avg_glucose_level       bmi  smoking_status  stroke  \n",
       "0             1.0           0.801265  0.301260        0.333333       1  \n",
       "1             0.0           0.679023  0.212981        0.666667       1  \n",
       "2             0.0           0.234512  0.254296        0.666667       1  \n",
       "3             1.0           0.536008  0.276060        1.000000       1  \n",
       "4             0.0           0.549349  0.156930        0.666667       1  "
      ]
     },
     "execution_count": 3,
     "metadata": {},
     "output_type": "execute_result"
    }
   ],
   "source": [
    "df.head()"
   ]
  },
  {
   "cell_type": "code",
   "execution_count": 4,
   "id": "8884e152-8a12-49dc-825a-84dcaea5aa08",
   "metadata": {},
   "outputs": [
    {
     "data": {
      "text/plain": [
       "(9722, 11)"
      ]
     },
     "execution_count": 4,
     "metadata": {},
     "output_type": "execute_result"
    }
   ],
   "source": [
    "df.shape"
   ]
  },
  {
   "cell_type": "code",
   "execution_count": 5,
   "id": "b6bc190a-6dc0-477f-b28f-133e6c69579d",
   "metadata": {},
   "outputs": [
    {
     "name": "stdout",
     "output_type": "stream",
     "text": [
      "<class 'pandas.core.frame.DataFrame'>\n",
      "RangeIndex: 9722 entries, 0 to 9721\n",
      "Data columns (total 11 columns):\n",
      " #   Column             Non-Null Count  Dtype  \n",
      "---  ------             --------------  -----  \n",
      " 0   gender             9722 non-null   float64\n",
      " 1   age                9722 non-null   float64\n",
      " 2   hypertension       9722 non-null   float64\n",
      " 3   heart_disease      9722 non-null   float64\n",
      " 4   ever_married       9722 non-null   float64\n",
      " 5   work_type          9722 non-null   float64\n",
      " 6   Residence_type     9722 non-null   float64\n",
      " 7   avg_glucose_level  9722 non-null   float64\n",
      " 8   bmi                9722 non-null   float64\n",
      " 9   smoking_status     9722 non-null   float64\n",
      " 10  stroke             9722 non-null   int64  \n",
      "dtypes: float64(10), int64(1)\n",
      "memory usage: 835.6 KB\n"
     ]
    }
   ],
   "source": [
    "df.info()"
   ]
  },
  {
   "cell_type": "code",
   "execution_count": 6,
   "id": "9679f0c7-ada0-4f40-b062-a7d2e7c97994",
   "metadata": {},
   "outputs": [
    {
     "data": {
      "text/plain": [
       "gender           0\n",
       "age              0\n",
       "hypertension     0\n",
       "heart_disease    0\n",
       "ever_married     0\n",
       "dtype: int64"
      ]
     },
     "execution_count": 6,
     "metadata": {},
     "output_type": "execute_result"
    }
   ],
   "source": [
    "df.isnull().sum().sort_values(ascending = False).head(5)"
   ]
  },
  {
   "cell_type": "code",
   "execution_count": 7,
   "id": "e6701745-4644-4bf3-b3b8-aef608483241",
   "metadata": {},
   "outputs": [
    {
     "data": {
      "text/plain": [
       "0"
      ]
     },
     "execution_count": 7,
     "metadata": {},
     "output_type": "execute_result"
    }
   ],
   "source": [
    "df.duplicated().sum()"
   ]
  },
  {
   "cell_type": "code",
   "execution_count": 8,
   "id": "df17fdad-22ef-4dad-8bd1-ac6df01a6b19",
   "metadata": {},
   "outputs": [],
   "source": [
    "X=df.iloc[:,:-1]\n",
    "y=df.iloc[:,-1]"
   ]
  },
  {
   "cell_type": "code",
   "execution_count": 9,
   "id": "e502ccc5-b751-4175-8011-c8866b9bda5a",
   "metadata": {},
   "outputs": [],
   "source": [
    "# MinMaxScaler\n",
    "from sklearn.preprocessing import MinMaxScaler\n",
    "my_scaler = MinMaxScaler()\n",
    "X = my_scaler.fit_transform(X)"
   ]
  },
  {
   "cell_type": "markdown",
   "id": "cdf07608",
   "metadata": {},
   "source": [
    "# Spliting Data \n",
    "### train test split"
   ]
  },
  {
   "cell_type": "code",
   "execution_count": 10,
   "id": "e159c4c9",
   "metadata": {},
   "outputs": [],
   "source": [
    "# Split into Input and Output Elements\n",
    "from sklearn.model_selection import train_test_split\n",
    "X_train, X_test, y_train, y_test = train_test_split(X,y,\n",
    "                                   test_size= 0.20, random_state=100, stratify=y)"
   ]
  },
  {
   "cell_type": "code",
   "execution_count": 11,
   "id": "4b382337-a84c-4ad9-94af-92b1b1629423",
   "metadata": {},
   "outputs": [
    {
     "data": {
      "text/plain": [
       "((7777, 10), (7777,))"
      ]
     },
     "execution_count": 11,
     "metadata": {},
     "output_type": "execute_result"
    }
   ],
   "source": [
    "X_train.shape ,y_train.shape"
   ]
  },
  {
   "cell_type": "code",
   "execution_count": 12,
   "id": "7320852e",
   "metadata": {},
   "outputs": [
    {
     "data": {
      "text/plain": [
       "((1945, 10), (1945,))"
      ]
     },
     "execution_count": 12,
     "metadata": {},
     "output_type": "execute_result"
    }
   ],
   "source": [
    "X_test.shape ,y_test.shape"
   ]
  },
  {
   "cell_type": "markdown",
   "id": "59996584",
   "metadata": {},
   "source": [
    "# Decision Tree"
   ]
  },
  {
   "cell_type": "code",
   "execution_count": 55,
   "id": "1883685c",
   "metadata": {},
   "outputs": [
    {
     "name": "stdout",
     "output_type": "stream",
     "text": [
      "DTModel Train Score is :  1.0\n",
      "DTModel Test Score is :  0.9017994858611825\n"
     ]
    }
   ],
   "source": [
    "from sklearn.tree import DecisionTreeClassifier\n",
    "DTModel = DecisionTreeClassifier(criterion='entropy') #'log_loss', 'entropy', 'gini'\n",
    "DTModel.fit(X_train,y_train)\n",
    "print('DTModel Train Score is : ',DTModel.score(X_train,y_train))\n",
    "print('DTModel Test Score is : ',DTModel.score(X_test,y_test))"
   ]
  },
  {
   "cell_type": "code",
   "execution_count": 14,
   "id": "2a96dfbe",
   "metadata": {},
   "outputs": [],
   "source": [
    "y_pred=NBModel.predict(X_test)"
   ]
  },
  {
   "cell_type": "code",
   "execution_count": 20,
   "id": "093e3c37-8647-40c4-9703-c1beea191928",
   "metadata": {},
   "outputs": [
    {
     "name": "stdout",
     "output_type": "stream",
     "text": [
      "actual Output  :  [0, 0, 1, 1, 1]\n",
      "predict output :  [0, 0, 1, 1, 1]\n"
     ]
    }
   ],
   "source": [
    "print('actual Output  : ',(y_test[:5].tolist()))\n",
    "print('predict output : ',y_pred[:5].tolist())"
   ]
  },
  {
   "cell_type": "code",
   "execution_count": 22,
   "id": "9582645c-74d5-454c-938b-0b886b0ace5a",
   "metadata": {},
   "outputs": [
    {
     "data": {
      "text/plain": [
       "array([[863, 110],\n",
       "       [ 83, 889]], dtype=int64)"
      ]
     },
     "execution_count": 22,
     "metadata": {},
     "output_type": "execute_result"
    }
   ],
   "source": [
    "from sklearn.metrics import classification_report ,confusion_matrix\n",
    "cm=confusion_matrix(y_test,y_pred)\n",
    "cm"
   ]
  },
  {
   "cell_type": "code",
   "execution_count": 31,
   "id": "efec3be1-be8a-4d50-a380-07ea7f857d03",
   "metadata": {},
   "outputs": [
    {
     "data": {
      "image/png": "[encoded data removed]",
      "text/plain": [
       "<Figure size 640x480 with 2 Axes>"
      ]
     },
     "metadata": {},
     "output_type": "display_data"
    }
   ],
   "source": [
    "import seaborn as sns\n",
    "sns.heatmap(cm, annot=True, annot_kws={\"size\": 12},fmt=\"g\", cmap=\"crest\")\n",
    "plt.show()"
   ]
  },
  {
   "cell_type": "code",
   "execution_count": 32,
   "id": "b7e53d0f",
   "metadata": {
    "scrolled": true
   },
   "outputs": [
    {
     "name": "stdout",
     "output_type": "stream",
     "text": [
      "              precision    recall  f1-score   support\n",
      "\n",
      "           0       0.91      0.89      0.90       973\n",
      "           1       0.89      0.91      0.90       972\n",
      "\n",
      "    accuracy                           0.90      1945\n",
      "   macro avg       0.90      0.90      0.90      1945\n",
      "weighted avg       0.90      0.90      0.90      1945\n",
      "\n"
     ]
    }
   ],
   "source": [
    "print(classification_report(y_test,y_pred))"
   ]
  },
  {
   "cell_type": "code",
   "execution_count": null,
   "id": "0ac18d48",
   "metadata": {},
   "outputs": [],
   "source": []
  },
  {
   "cell_type": "code",
   "execution_count": null,
   "id": "7a127ced",
   "metadata": {},
   "outputs": [],
   "source": []
  },
  {
   "cell_type": "markdown",
   "id": "2b7034a0-37f8-4038-965f-e302e39747e8",
   "metadata": {},
   "source": [
    "# Random Forest"
   ]
  },
  {
   "cell_type": "code",
   "execution_count": 61,
   "id": "584e2029-e56f-4ff6-b195-1710728e20ce",
   "metadata": {},
   "outputs": [
    {
     "name": "stdout",
     "output_type": "stream",
     "text": [
      "DTModel Train Score is :  0.9994856628519995\n",
      "DTModel Test Score is :  0.9552699228791773\n"
     ]
    }
   ],
   "source": [
    "from sklearn.ensemble import RandomForestClassifier\n",
    "RFModel = RandomForestClassifier(n_estimators=20,criterion='entropy',max_depth=50)\n",
    "RFModel.fit(X_train,y_train)\n",
    "print('DTModel Train Score is : ',RFModel.score(X_train,y_train))\n",
    "print('DTModel Test Score is : ',RFModel.score(X_test,y_test))"
   ]
  },
  {
   "cell_type": "code",
   "execution_count": 62,
   "id": "6e30e771-78ab-474e-8b8f-0381bd1c6e5d",
   "metadata": {},
   "outputs": [],
   "source": [
    "y_pred=RFModel.predict(X_test)"
   ]
  },
  {
   "cell_type": "code",
   "execution_count": 63,
   "id": "809e3a67-6a53-4960-9dcb-fd5950518d8e",
   "metadata": {},
   "outputs": [
    {
     "name": "stdout",
     "output_type": "stream",
     "text": [
      "actual Output  :  [0, 0, 1, 1, 1]\n",
      "predict output :  [0, 0, 1, 1, 1]\n"
     ]
    }
   ],
   "source": [
    "print('actual Output  : ',(y_test[:5].tolist()))\n",
    "print('predict output : ',y_pred[:5].tolist())"
   ]
  },
  {
   "cell_type": "code",
   "execution_count": 64,
   "id": "627eafc5-db3e-469b-899d-74ded8e6ce4a",
   "metadata": {},
   "outputs": [
    {
     "data": {
      "text/plain": [
       "array([[924,  49],\n",
       "       [ 38, 934]], dtype=int64)"
      ]
     },
     "execution_count": 64,
     "metadata": {},
     "output_type": "execute_result"
    }
   ],
   "source": [
    "from sklearn.metrics import classification_report ,confusion_matrix\n",
    "cm=confusion_matrix(y_test,y_pred)\n",
    "cm"
   ]
  },
  {
   "cell_type": "code",
   "execution_count": 65,
   "id": "733081ee-914e-4dd0-b50c-1536dba090bf",
   "metadata": {},
   "outputs": [
    {
     "data": {
      "image/png": "[encoded data removed]",
      "text/plain": [
       "<Figure size 640x480 with 2 Axes>"
      ]
     },
     "metadata": {},
     "output_type": "display_data"
    }
   ],
   "source": [
    "import seaborn as sns\n",
    "sns.heatmap(cm, annot=True, annot_kws={\"size\": 12},fmt=\"g\", cmap=\"crest\")\n",
    "plt.show()"
   ]
  },
  {
   "cell_type": "code",
   "execution_count": 32,
   "id": "a659c641-c7dd-40b8-b949-ca5efc5144d8",
   "metadata": {
    "scrolled": true
   },
   "outputs": [
    {
     "name": "stdout",
     "output_type": "stream",
     "text": [
      "              precision    recall  f1-score   support\n",
      "\n",
      "           0       0.91      0.89      0.90       973\n",
      "           1       0.89      0.91      0.90       972\n",
      "\n",
      "    accuracy                           0.90      1945\n",
      "   macro avg       0.90      0.90      0.90      1945\n",
      "weighted avg       0.90      0.90      0.90      1945\n",
      "\n"
     ]
    }
   ],
   "source": [
    "print(classification_report(y_test,y_pred))"
   ]
  }
 ],
 "metadata": {
  "kernelspec": {
   "display_name": "Python 3 (ipykernel)",
   "language": "python",
   "name": "python3"
  },
  "language_info": {
   "codemirror_mode": {
    "name": "ipython",
    "version": 3
   },
   "file_extension": ".py",
   "mimetype": "text/x-python",
   "name": "python",
   "nbconvert_exporter": "python",
   "pygments_lexer": "ipython3",
   "version": "3.11.5"
  }
 },
 "nbformat": 4,
 "nbformat_minor": 5
}
